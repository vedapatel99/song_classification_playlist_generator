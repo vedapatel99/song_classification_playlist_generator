{
 "cells": [
  {
   "cell_type": "markdown",
   "id": "86d3d28b-9206-4571-aa90-c94fc0ca4bab",
   "metadata": {},
   "source": [
    "# Data Collection"
   ]
  },
  {
   "cell_type": "markdown",
   "id": "19e9d4df-9642-4edd-a5ac-4bb3a3df5df4",
   "metadata": {},
   "source": [
    "Imports"
   ]
  },
  {
   "cell_type": "code",
   "execution_count": 26,
   "id": "e60856e7-8a31-45ed-aa63-5e36d61005cc",
   "metadata": {},
   "outputs": [],
   "source": [
    "import pandas as pd\n",
    "import numpy as np\n",
    "\n",
    "import time\n",
    "import retrying"
   ]
  },
  {
   "cell_type": "code",
   "execution_count": 2,
   "id": "52e5f78b-552d-4bdd-b144-caee3c119a8e",
   "metadata": {},
   "outputs": [],
   "source": [
    "import spotipy\n",
    "from spotipy import SpotifyClientCredentials, util"
   ]
  },
  {
   "cell_type": "markdown",
   "id": "7025e60d-77c1-460b-8b2a-87c48773dc49",
   "metadata": {},
   "source": [
    "I created an app on Spotify's developer page and was retrieved my client ID and client secret. I ran a cell with these codes and deleted them after for security purposes. I you want to replicate this notebook, you can create an app and replace `CLIENT_ID` and `CLIENT_SECRET` with your app's in the code below."
   ]
  },
  {
   "cell_type": "code",
   "execution_count": 4,
   "id": "7edef34a-bcfe-45bd-b0c6-0f9be299a7da",
   "metadata": {},
   "outputs": [],
   "source": [
    "creds= SpotifyClientCredentials(client_id= CLIENT_ID, client_secret= CLIENT_SECRET)"
   ]
  },
  {
   "cell_type": "code",
   "execution_count": 5,
   "id": "0f656a22-9fc1-4eb7-b2fc-506a3e9da258",
   "metadata": {},
   "outputs": [],
   "source": [
    "sp = spotipy.Spotify(client_credentials_manager= creds)"
   ]
  },
  {
   "cell_type": "code",
   "execution_count": 6,
   "id": "f6c95cff-b53c-4947-bdab-3521d34d922e",
   "metadata": {},
   "outputs": [
    {
     "data": {
      "text/plain": [
       "100"
      ]
     },
     "execution_count": 6,
     "metadata": {},
     "output_type": "execute_result"
    }
   ],
   "source": [
    "# searched for largest playlist on spotify\n",
    "# it has 10,000 songs of many genres/song types\n",
    "playlist_link = \"https://open.spotify.com/playlist/5S8SJdl1BDc0ugpkEvFsIL\"\n",
    "\n",
    "# extracting playlist URI\n",
    "playlist_URI = playlist_link.split(\"/\")[-1]\n",
    "\n",
    "# make a list of all songs' uri \n",
    "song_uri_list = [song[\"track\"][\"uri\"] for song in sp.playlist_tracks(playlist_URI)[\"items\"]]\n",
    "len(song_uri_list)"
   ]
  },
  {
   "cell_type": "markdown",
   "id": "082a70db-bc0a-4751-9f37-72d37fcb968d",
   "metadata": {},
   "source": [
    "We can see there is a limit on how many songs you can get using the `sp.playlist_tracks()` function, so we will create a for loop to change the offset(which index to start) to collect all 10,000 songs."
   ]
  },
  {
   "cell_type": "code",
   "execution_count": 7,
   "id": "23147e1d-612d-45dc-b549-aa6bf0d5f275",
   "metadata": {},
   "outputs": [],
   "source": [
    "song_uri_list=[]\n",
    "\n",
    "# offsets that skip by 100\n",
    "offsets= [*range(0, 10_000, 100)]"
   ]
  },
  {
   "cell_type": "code",
   "execution_count": 8,
   "id": "0ae33f3c-e34a-4a3f-8002-170e29ba0dde",
   "metadata": {},
   "outputs": [
    {
     "data": {
      "text/plain": [
       "10000"
      ]
     },
     "execution_count": 8,
     "metadata": {},
     "output_type": "execute_result"
    }
   ],
   "source": [
    "for o in offsets:\n",
    "    song_uris= [song[\"track\"][\"uri\"] for song in sp.playlist_tracks(playlist_URI, offset= o)[\"items\"]]\n",
    "    song_uri_list.extend(song_uris)\n",
    "len(song_uri_list)"
   ]
  },
  {
   "cell_type": "markdown",
   "id": "1285b439-2007-4519-bf0b-9bd58523264e",
   "metadata": {},
   "source": [
    "We have all 10,000 songs now."
   ]
  },
  {
   "cell_type": "markdown",
   "id": "c4e2bea1-87d8-490b-844e-a080ab572da1",
   "metadata": {},
   "source": [
    "### Getting all songs into a dataframe orientation"
   ]
  },
  {
   "cell_type": "code",
   "execution_count": 17,
   "id": "a852c3a1-c1f3-492b-a74b-ded3259c9b11",
   "metadata": {},
   "outputs": [
    {
     "data": {
      "text/plain": [
       "[{'danceability': 0.615,\n",
       "  'energy': 0.779,\n",
       "  'key': 2,\n",
       "  'loudness': -6.454,\n",
       "  'mode': 1,\n",
       "  'speechiness': 0.135,\n",
       "  'acousticness': 0.0665,\n",
       "  'instrumentalness': 0,\n",
       "  'liveness': 0.155,\n",
       "  'valence': 0.453,\n",
       "  'tempo': 160.0,\n",
       "  'type': 'audio_features',\n",
       "  'id': '7zgqtptZvhf8GEmdsM2vp2',\n",
       "  'uri': 'spotify:track:7zgqtptZvhf8GEmdsM2vp2',\n",
       "  'track_href': 'https://api.spotify.com/v1/tracks/7zgqtptZvhf8GEmdsM2vp2',\n",
       "  'analysis_url': 'https://api.spotify.com/v1/audio-analysis/7zgqtptZvhf8GEmdsM2vp2',\n",
       "  'duration_ms': 208198,\n",
       "  'time_signature': 4}]"
      ]
     },
     "execution_count": 17,
     "metadata": {},
     "output_type": "execute_result"
    }
   ],
   "source": [
    "sp.audio_features(song_uri_list[0])"
   ]
  },
  {
   "cell_type": "code",
   "execution_count": 19,
   "id": "a6cf7e0b-8c71-47fe-a5ee-e29dc8e23309",
   "metadata": {},
   "outputs": [],
   "source": [
    "audio_data= sp.audio_features(song_uri_list[0])\n",
    "\n",
    "danceability = audio_data[0]['danceability']\n",
    "energy = audio_data[0]['energy']\n",
    "key = audio_data[0]['key']\n",
    "loudness = audio_data[0]['loudness']\n",
    "mode = audio_data[0]['mode']\n",
    "speechiness = audio_data[0]['speechiness']\n",
    "acousticness = audio_data[0]['acousticness']\n",
    "instrumentalness = audio_data[0]['instrumentalness']\n",
    "liveness = audio_data[0]['liveness']\n",
    "valence = audio_data[0]['valence']\n",
    "tempo = audio_data[0]['tempo']\n",
    "duration_ms = audio_data[0]['duration_ms']\n",
    "time_signature = audio_data[0]['time_signature']"
   ]
  },
  {
   "cell_type": "code",
   "execution_count": 20,
   "id": "8e3a2b9a-aea1-468e-9424-5303fc805b71",
   "metadata": {},
   "outputs": [],
   "source": [
    "audio_data = pd.DataFrame({\n",
    "    'danceability': [danceability],\n",
    "    'energy': [energy],\n",
    "    'key': [key],\n",
    "    'loudness': [loudness],\n",
    "    'mode': [mode],\n",
    "    'speechiness': [speechiness],\n",
    "    'acousticness': [acousticness],\n",
    "    'instrumentalness': [instrumentalness],\n",
    "    'liveness': [liveness],\n",
    "    'valence': [valence],\n",
    "    'tempo': [tempo],\n",
    "    'duration': [duration_ms],\n",
    "    'time signature': [time_signature]\n",
    "})"
   ]
  },
  {
   "cell_type": "code",
   "execution_count": 21,
   "id": "80f3329f-76f3-46aa-8e92-9c18c813837a",
   "metadata": {},
   "outputs": [
    {
     "data": {
      "text/html": [
       "<div>\n",
       "<style scoped>\n",
       "    .dataframe tbody tr th:only-of-type {\n",
       "        vertical-align: middle;\n",
       "    }\n",
       "\n",
       "    .dataframe tbody tr th {\n",
       "        vertical-align: top;\n",
       "    }\n",
       "\n",
       "    .dataframe thead th {\n",
       "        text-align: right;\n",
       "    }\n",
       "</style>\n",
       "<table border=\"1\" class=\"dataframe\">\n",
       "  <thead>\n",
       "    <tr style=\"text-align: right;\">\n",
       "      <th></th>\n",
       "      <th>danceability</th>\n",
       "      <th>energy</th>\n",
       "      <th>key</th>\n",
       "      <th>loudness</th>\n",
       "      <th>mode</th>\n",
       "      <th>speechiness</th>\n",
       "      <th>acousticness</th>\n",
       "      <th>instrumentalness</th>\n",
       "      <th>liveness</th>\n",
       "      <th>valence</th>\n",
       "      <th>tempo</th>\n",
       "      <th>duration</th>\n",
       "      <th>time signature</th>\n",
       "    </tr>\n",
       "  </thead>\n",
       "  <tbody>\n",
       "    <tr>\n",
       "      <th>0</th>\n",
       "      <td>0.615</td>\n",
       "      <td>0.779</td>\n",
       "      <td>2</td>\n",
       "      <td>-6.454</td>\n",
       "      <td>1</td>\n",
       "      <td>0.135</td>\n",
       "      <td>0.0665</td>\n",
       "      <td>0</td>\n",
       "      <td>0.155</td>\n",
       "      <td>0.453</td>\n",
       "      <td>160.0</td>\n",
       "      <td>208198</td>\n",
       "      <td>4</td>\n",
       "    </tr>\n",
       "  </tbody>\n",
       "</table>\n",
       "</div>"
      ],
      "text/plain": [
       "   danceability  energy  key  loudness  mode  speechiness  acousticness  \\\n",
       "0         0.615   0.779    2    -6.454     1        0.135        0.0665   \n",
       "\n",
       "   instrumentalness  liveness  valence  tempo  duration  time signature  \n",
       "0                 0     0.155    0.453  160.0    208198               4  "
      ]
     },
     "execution_count": 21,
     "metadata": {},
     "output_type": "execute_result"
    }
   ],
   "source": [
    "audio_data.head()"
   ]
  },
  {
   "cell_type": "code",
   "execution_count": 16,
   "id": "118a83f5-696f-4669-985d-acfe6aa5bcf6",
   "metadata": {},
   "outputs": [
    {
     "data": {
      "text/plain": [
       "{'album': {'album_type': 'single',\n",
       "  'artists': [{'external_urls': {'spotify': 'https://open.spotify.com/artist/06HL4z0CvFAxyc27GXpf02'},\n",
       "    'href': 'https://api.spotify.com/v1/artists/06HL4z0CvFAxyc27GXpf02',\n",
       "    'id': '06HL4z0CvFAxyc27GXpf02',\n",
       "    'name': 'Taylor Swift',\n",
       "    'type': 'artist',\n",
       "    'uri': 'spotify:artist:06HL4z0CvFAxyc27GXpf02'}],\n",
       "  'available_markets': [],\n",
       "  'external_urls': {'spotify': 'https://open.spotify.com/album/0HG8fMDhvN2tH5uPHFsyZP'},\n",
       "  'href': 'https://api.spotify.com/v1/albums/0HG8fMDhvN2tH5uPHFsyZP',\n",
       "  'id': '0HG8fMDhvN2tH5uPHFsyZP',\n",
       "  'images': [{'height': 640,\n",
       "    'url': 'https://i.scdn.co/image/ab67616d0000b2734322e9bd7d57d061d0e19e1f',\n",
       "    'width': 640},\n",
       "   {'height': 300,\n",
       "    'url': 'https://i.scdn.co/image/ab67616d00001e024322e9bd7d57d061d0e19e1f',\n",
       "    'width': 300},\n",
       "   {'height': 64,\n",
       "    'url': 'https://i.scdn.co/image/ab67616d000048514322e9bd7d57d061d0e19e1f',\n",
       "    'width': 64}],\n",
       "  'name': '...Ready For It?',\n",
       "  'release_date': '2017-09-03',\n",
       "  'release_date_precision': 'day',\n",
       "  'total_tracks': 1,\n",
       "  'type': 'album',\n",
       "  'uri': 'spotify:album:0HG8fMDhvN2tH5uPHFsyZP'},\n",
       " 'artists': [{'external_urls': {'spotify': 'https://open.spotify.com/artist/06HL4z0CvFAxyc27GXpf02'},\n",
       "   'href': 'https://api.spotify.com/v1/artists/06HL4z0CvFAxyc27GXpf02',\n",
       "   'id': '06HL4z0CvFAxyc27GXpf02',\n",
       "   'name': 'Taylor Swift',\n",
       "   'type': 'artist',\n",
       "   'uri': 'spotify:artist:06HL4z0CvFAxyc27GXpf02'}],\n",
       " 'available_markets': [],\n",
       " 'disc_number': 1,\n",
       " 'duration_ms': 208198,\n",
       " 'explicit': False,\n",
       " 'external_ids': {'isrc': 'USCJY1750003'},\n",
       " 'external_urls': {'spotify': 'https://open.spotify.com/track/7zgqtptZvhf8GEmdsM2vp2'},\n",
       " 'href': 'https://api.spotify.com/v1/tracks/7zgqtptZvhf8GEmdsM2vp2',\n",
       " 'id': '7zgqtptZvhf8GEmdsM2vp2',\n",
       " 'is_local': False,\n",
       " 'name': '...Ready For It?',\n",
       " 'popularity': 0,\n",
       " 'preview_url': None,\n",
       " 'track_number': 1,\n",
       " 'type': 'track',\n",
       " 'uri': 'spotify:track:7zgqtptZvhf8GEmdsM2vp2'}"
      ]
     },
     "execution_count": 16,
     "metadata": {},
     "output_type": "execute_result"
    }
   ],
   "source": [
    "sp.track(song_uri_list[0])"
   ]
  },
  {
   "cell_type": "code",
   "execution_count": 12,
   "id": "f4ebc0cd-06ad-444e-8454-d7f938dd2b4f",
   "metadata": {},
   "outputs": [],
   "source": [
    "song_data= sp.track(song_uri_list[0])\n",
    "\n",
    "artist_name = song_data['artists'][0]['name']\n",
    "track_name = song_data['name']\n",
    "album_name = song_data['album']['name']\n",
    "release_date = song_data['album']['release_date']\n",
    "popularity = song_data['popularity']"
   ]
  },
  {
   "cell_type": "code",
   "execution_count": 13,
   "id": "c12040f0-dab1-4d83-8384-06d3f4261364",
   "metadata": {},
   "outputs": [
    {
     "data": {
      "text/html": [
       "<div>\n",
       "<style scoped>\n",
       "    .dataframe tbody tr th:only-of-type {\n",
       "        vertical-align: middle;\n",
       "    }\n",
       "\n",
       "    .dataframe tbody tr th {\n",
       "        vertical-align: top;\n",
       "    }\n",
       "\n",
       "    .dataframe thead th {\n",
       "        text-align: right;\n",
       "    }\n",
       "</style>\n",
       "<table border=\"1\" class=\"dataframe\">\n",
       "  <thead>\n",
       "    <tr style=\"text-align: right;\">\n",
       "      <th></th>\n",
       "      <th>artist</th>\n",
       "      <th>track</th>\n",
       "      <th>album</th>\n",
       "      <th>release_date</th>\n",
       "      <th>popularity</th>\n",
       "    </tr>\n",
       "  </thead>\n",
       "  <tbody>\n",
       "    <tr>\n",
       "      <th>0</th>\n",
       "      <td>Taylor Swift</td>\n",
       "      <td>...Ready For It?</td>\n",
       "      <td>...Ready For It?</td>\n",
       "      <td>2017-09-03</td>\n",
       "      <td>0</td>\n",
       "    </tr>\n",
       "  </tbody>\n",
       "</table>\n",
       "</div>"
      ],
      "text/plain": [
       "         artist             track             album release_date  popularity\n",
       "0  Taylor Swift  ...Ready For It?  ...Ready For It?   2017-09-03           0"
      ]
     },
     "execution_count": 13,
     "metadata": {},
     "output_type": "execute_result"
    }
   ],
   "source": [
    "song_data = pd.DataFrame({\n",
    "    'artist': [artist_name],\n",
    "    'track': [track_name],\n",
    "    'album': [album_name],\n",
    "    'release_date': [release_date],\n",
    "    'popularity': [popularity]\n",
    "})\n",
    "song_data.head()"
   ]
  },
  {
   "cell_type": "markdown",
   "id": "c3c4a431-683e-48a2-8bf1-3188a4eea86c",
   "metadata": {},
   "source": [
    "We will now make functions to do what we did for one song above for all the songs."
   ]
  },
  {
   "cell_type": "code",
   "execution_count": 29,
   "id": "7df663ff-442c-43cc-8e02-b3d87f60325c",
   "metadata": {},
   "outputs": [],
   "source": [
    "@retrying.retry(stop_max_attempt_number=2, wait_fixed=2000)\n",
    "\n",
    "def get_song_data(song, sp):\n",
    "    \n",
    "    '''\n",
    "    This function takes in a song uri and your spotipy.Spotify() function saved as a variable.\n",
    "    The function extracts the data from spotipy's .track() and .audio_features() and saves them into a dictionary.\n",
    "    The funtions this dictionaries containing all the song's info. \n",
    "    '''\n",
    "    \n",
    "    song_data = sp.track(song)\n",
    "    audio_data = sp.audio_features(song)\n",
    "\n",
    "    song_feat = {\n",
    "                \n",
    "                # from song data \n",
    "                'song': song_data['name'],\n",
    "                'artist': song_data['artists'][0]['name'],\n",
    "                'album': song_data['album']['name'],\n",
    "                'release_date': song_data['album']['release_date'],\n",
    "                \n",
    "                # from audio data\n",
    "                'danceability': audio_data[0]['danceability'],\n",
    "                'energy': audio_data[0]['energy'],\n",
    "                'key': audio_data[0]['key'],\n",
    "                'loudness': audio_data[0]['loudness'],\n",
    "                'mode': audio_data[0]['mode'],\n",
    "                'speechiness': audio_data[0]['speechiness'],\n",
    "                'acousticness': audio_data[0]['acousticness'],\n",
    "                'instrumentalness': audio_data[0]['instrumentalness'],\n",
    "                'liveness': audio_data[0]['liveness'],\n",
    "                'valence': audio_data[0]['valence'],\n",
    "                'tempo': audio_data[0]['tempo'],\n",
    "                'duration': audio_data[0]['duration_ms'],\n",
    "                'time_signature': audio_data[0]['time_signature']\n",
    "            }\n",
    "\n",
    "    return song_feat"
   ]
  },
  {
   "cell_type": "code",
   "execution_count": 38,
   "id": "f00a8d0a-d7e8-4090-b85c-2b269010ac52",
   "metadata": {},
   "outputs": [
    {
     "data": {
      "text/plain": [
       "{'song': '...Ready For It?',\n",
       " 'artist': 'Taylor Swift',\n",
       " 'album': '...Ready For It?',\n",
       " 'release_date': '2017-09-03',\n",
       " 'danceability': 0.615,\n",
       " 'energy': 0.779,\n",
       " 'key': 2,\n",
       " 'loudness': -6.454,\n",
       " 'mode': 1,\n",
       " 'speechiness': 0.135,\n",
       " 'acousticness': 0.0665,\n",
       " 'instrumentalness': 0,\n",
       " 'liveness': 0.155,\n",
       " 'valence': 0.453,\n",
       " 'tempo': 160.0,\n",
       " 'duration': 208198,\n",
       " 'time_signature': 4}"
      ]
     },
     "execution_count": 38,
     "metadata": {},
     "output_type": "execute_result"
    }
   ],
   "source": [
    "# testing\n",
    "get_song_data(song_uri_list[0], sp)"
   ]
  },
  {
   "cell_type": "code",
   "execution_count": 30,
   "id": "942c3c8a-afad-43d9-9098-0a4cbafefb1a",
   "metadata": {},
   "outputs": [],
   "source": [
    "def get_song_features(song_uri_list, sp):\n",
    "    \n",
    "    '''\n",
    "    This function takes in a list of song uri's and your spotipy.Spotify() function saved as a variable.\n",
    "    The function goes through each song's uri and uses the get_song_data() function to extracts the data from each song.\n",
    "    It then saves each song's feature dictionary into a list. \n",
    "    A sleep function is used to prevent 429 API rate limit errors.\n",
    "    The funtions returns a list of dictionaries containing all the song's info. \n",
    "    '''\n",
    "    \n",
    "    song_feats = []\n",
    "\n",
    "    for song in song_uri_list:\n",
    "        try:\n",
    "            song_feat = get_song_data(song, sp)\n",
    "            song_feats.append(song_feat)\n",
    "            time.sleep(2)\n",
    "        except:\n",
    "            print(f\"Failed to retrieve data for song with URI: {song}\")\n",
    "    \n",
    "    return song_feats"
   ]
  },
  {
   "cell_type": "code",
   "execution_count": 31,
   "id": "b3e93312-d492-4b59-9e19-21b883acc505",
   "metadata": {},
   "outputs": [
    {
     "name": "stdout",
     "output_type": "stream",
     "text": [
      "Failed to retrieve data for song with URI: spotify:local:::In+the+Shadow+of+the+Valley:187\n",
      "Failed to retrieve data for song with URI: spotify:local:::April+Sweatpants:166\n",
      "Failed to retrieve data for song with URI: spotify:local:SNSD::Gee+%28Korean+Ver.+MP3+only%29:205\n",
      "Failed to retrieve data for song with URI: spotify:local:::Hero:194\n",
      "Failed to retrieve data for song with URI: spotify:local:::Beneath+the+Mask+%5BWith+Lyrics%5D+-+Persona+5:285\n",
      "Failed to retrieve data for song with URI: spotify:local:::Last+Surprise+%5BWith+Lyrics%5D+-+Persona+5:236\n",
      "Failed to retrieve data for song with URI: spotify:local:::Vampire+Weekend++Ottoman:244\n",
      "Failed to retrieve data for song with URI: spotify:local:::Vampire+Weekend+-+Ottoman:234\n",
      "Failed to retrieve data for song with URI: spotify:local:Harry+Gregson-Williams:The+Chronicles+of+Narnia%3A+The+Lion%2C+The+Witch+and+the+Wardrobe+%28Soundtrack+from+the+Motion+Picture%29:Father+Christmas:200\n",
      "Failed to retrieve data for song with URI: spotify:local:Harry+Gregson-Williams:The+Chronicles+of+Narnia%3A+The+Lion%2C+The+Witch+and+the+Wardrobe+%28Soundtrack+from+the+Motion+Picture%29:To+Aslan%27s+Camp:192\n",
      "Failed to retrieve data for song with URI: spotify:local:Harry+Gregson-Williams:The+Chronicles+of+Narnia%3A+The+Lion%2C+The+Witch+and+the+Wardrobe+%28Soundtrack+from+the+Motion+Picture%29:Only+the+Beginning+of+the+Adventure:348\n",
      "Failed to retrieve data for song with URI: spotify:local:Harry+Gregson-Williams:The+Chronicles+of+Narnia%3A+The+Lion%2C+The+Witch+and+the+Wardrobe+%28Soundtrack+from+the+Motion+Picture%29:Evacuating+London:218\n",
      "Failed to retrieve data for song with URI: spotify:local:Harry+Gregson-Williams:The+Chronicles+of+Narnia%3A+The+Lion%2C+The+Witch+and+the+Wardrobe+%28Soundtrack+from+the+Motion+Picture%29:The+Battle:428\n",
      "Failed to retrieve data for song with URI: spotify:local:Marina+%26+The+Diamonds:I+Am+Not+a+Robot:I+Am+Not+A+Robot+%28Clock+Opera+Remix%29:276\n",
      "Failed to retrieve data for song with URI: spotify:local:Nero:Guilt:Guilt:273\n",
      "Failed to retrieve data for song with URI: spotify:local:Kruder+%26+Dorfmeister:The+K%26D+Sessions+CD1:Bomb+The+Bass+%2F+Bug+Powder+Dust+%28K%26D+Session%29:440\n",
      "Failed to retrieve data for song with URI: spotify:local:Agust+D:Agust+D:Agust+D:234\n",
      "Failed to retrieve data for song with URI: spotify:local:BTS:%EC%95%BD%EC%86%8D+By+JIMIN+Of+BTS:%EC%95%BD%EC%86%8D+By+JIMIN+Of+BTS:151\n",
      "Failed to retrieve data for song with URI: spotify:local:BTS:Seesaw+X+I+NEED+U+REMIX:Seesaw+X+I+NEED+U+REMIX:191\n",
      "Failed to retrieve data for song with URI: spotify:local:Iron+Butterfly:Divers:In+A+Gadda+Da+Vida+%28Live%29:1129\n",
      "Failed to retrieve data for song with URI: spotify:track:0q5lnUuDhlogtYCOubNQhQ\n",
      "Failed to retrieve data for song with URI: spotify:track:2uhMus7eAZMsZgFNCWa85d\n",
      "Failed to retrieve data for song with URI: spotify:track:2eaXztxfCe2wAJfzqQiGep\n",
      "Failed to retrieve data for song with URI: spotify:track:4rqIWDzTOMaJSWndMIvFUG\n",
      "Failed to retrieve data for song with URI: spotify:track:02n3iOSO9TG0GByhLfDa3j\n",
      "Failed to retrieve data for song with URI: spotify:track:0vkNxB5U749GPuFni0gwBW\n",
      "Failed to retrieve data for song with URI: spotify:track:3aq47TV8NcULaGfNPzqhw1\n",
      "Failed to retrieve data for song with URI: spotify:track:5lB2sUAIPVh0mIQQuS6WMG\n",
      "Failed to retrieve data for song with URI: spotify:track:58rZguDooZnZmNchpIujnf\n",
      "Failed to retrieve data for song with URI: spotify:track:5T1P0pZVTleCGqJLqkc4m8\n",
      "Failed to retrieve data for song with URI: spotify:track:2cNKDTYqFqsTAvuVjXSHek\n",
      "Failed to retrieve data for song with URI: spotify:track:1TvjxHTfHyegOCuOXsOqtq\n",
      "Failed to retrieve data for song with URI: spotify:track:0owbKiFlULxrPPeD23kZHq\n",
      "Failed to retrieve data for song with URI: spotify:track:6JyUeAB6lGSHH2UdIR643f\n",
      "Failed to retrieve data for song with URI: spotify:track:04boE4u1AupbrGlI62WvoO\n",
      "Failed to retrieve data for song with URI: spotify:track:2eaXztxfCe2wAJfzqQiGep\n",
      "Failed to retrieve data for song with URI: spotify:track:2uhMus7eAZMsZgFNCWa85d\n",
      "Failed to retrieve data for song with URI: spotify:track:4rqIWDzTOMaJSWndMIvFUG\n",
      "Failed to retrieve data for song with URI: spotify:track:0vkNxB5U749GPuFni0gwBW\n"
     ]
    }
   ],
   "source": [
    "all_song_feats= get_song_features(song_uri_list, sp)"
   ]
  },
  {
   "cell_type": "markdown",
   "id": "3d288c65-29f9-494e-9314-3ea673ebe860",
   "metadata": {},
   "source": [
    "There were a few songs that weren't able to be retrieved, but most were. We will make a dataframe with all the songs from the list of dictionaries."
   ]
  },
  {
   "cell_type": "markdown",
   "id": "a542d5da-8cfc-4de8-9268-47d77ced8467",
   "metadata": {},
   "source": [
    "### Create Dataframe"
   ]
  },
  {
   "cell_type": "code",
   "execution_count": 32,
   "id": "eef11ba8-4ddd-4a55-82ec-1953b914422f",
   "metadata": {},
   "outputs": [],
   "source": [
    "song_df= pd.DataFrame(all_song_feats)"
   ]
  },
  {
   "cell_type": "code",
   "execution_count": 33,
   "id": "b8320446-33e4-42ed-a224-acc0398ab5ed",
   "metadata": {},
   "outputs": [
    {
     "data": {
      "text/html": [
       "<div>\n",
       "<style scoped>\n",
       "    .dataframe tbody tr th:only-of-type {\n",
       "        vertical-align: middle;\n",
       "    }\n",
       "\n",
       "    .dataframe tbody tr th {\n",
       "        vertical-align: top;\n",
       "    }\n",
       "\n",
       "    .dataframe thead th {\n",
       "        text-align: right;\n",
       "    }\n",
       "</style>\n",
       "<table border=\"1\" class=\"dataframe\">\n",
       "  <thead>\n",
       "    <tr style=\"text-align: right;\">\n",
       "      <th></th>\n",
       "      <th>song</th>\n",
       "      <th>artist</th>\n",
       "      <th>album</th>\n",
       "      <th>release_date</th>\n",
       "      <th>danceability</th>\n",
       "      <th>energy</th>\n",
       "      <th>key</th>\n",
       "      <th>loudness</th>\n",
       "      <th>mode</th>\n",
       "      <th>speechiness</th>\n",
       "      <th>acousticness</th>\n",
       "      <th>instrumentalness</th>\n",
       "      <th>liveness</th>\n",
       "      <th>valence</th>\n",
       "      <th>tempo</th>\n",
       "      <th>duration</th>\n",
       "      <th>time_signature</th>\n",
       "    </tr>\n",
       "  </thead>\n",
       "  <tbody>\n",
       "    <tr>\n",
       "      <th>0</th>\n",
       "      <td>...Ready For It?</td>\n",
       "      <td>Taylor Swift</td>\n",
       "      <td>...Ready For It?</td>\n",
       "      <td>2017-09-03</td>\n",
       "      <td>0.615</td>\n",
       "      <td>0.779</td>\n",
       "      <td>2</td>\n",
       "      <td>-6.454</td>\n",
       "      <td>1</td>\n",
       "      <td>0.1350</td>\n",
       "      <td>0.0665</td>\n",
       "      <td>0.000000</td>\n",
       "      <td>0.1550</td>\n",
       "      <td>0.453</td>\n",
       "      <td>160.000</td>\n",
       "      <td>208198</td>\n",
       "      <td>4</td>\n",
       "    </tr>\n",
       "    <tr>\n",
       "      <th>1</th>\n",
       "      <td>Life Changes</td>\n",
       "      <td>Thomas Rhett</td>\n",
       "      <td>Life Changes</td>\n",
       "      <td>2017-09-08</td>\n",
       "      <td>0.687</td>\n",
       "      <td>0.845</td>\n",
       "      <td>7</td>\n",
       "      <td>-4.370</td>\n",
       "      <td>1</td>\n",
       "      <td>0.0576</td>\n",
       "      <td>0.1000</td>\n",
       "      <td>0.000000</td>\n",
       "      <td>0.0452</td>\n",
       "      <td>0.809</td>\n",
       "      <td>87.972</td>\n",
       "      <td>190227</td>\n",
       "      <td>4</td>\n",
       "    </tr>\n",
       "    <tr>\n",
       "      <th>2</th>\n",
       "      <td>24K Magic</td>\n",
       "      <td>Bruno Mars</td>\n",
       "      <td>24K Magic</td>\n",
       "      <td>2016-11-17</td>\n",
       "      <td>0.818</td>\n",
       "      <td>0.803</td>\n",
       "      <td>1</td>\n",
       "      <td>-4.282</td>\n",
       "      <td>1</td>\n",
       "      <td>0.0797</td>\n",
       "      <td>0.0340</td>\n",
       "      <td>0.000000</td>\n",
       "      <td>0.1530</td>\n",
       "      <td>0.632</td>\n",
       "      <td>106.970</td>\n",
       "      <td>225983</td>\n",
       "      <td>4</td>\n",
       "    </tr>\n",
       "    <tr>\n",
       "      <th>3</th>\n",
       "      <td>Galway Girl</td>\n",
       "      <td>Ed Sheeran</td>\n",
       "      <td>÷ (Deluxe)</td>\n",
       "      <td>2017-03-03</td>\n",
       "      <td>0.624</td>\n",
       "      <td>0.876</td>\n",
       "      <td>9</td>\n",
       "      <td>-3.374</td>\n",
       "      <td>1</td>\n",
       "      <td>0.1000</td>\n",
       "      <td>0.0735</td>\n",
       "      <td>0.000000</td>\n",
       "      <td>0.3270</td>\n",
       "      <td>0.781</td>\n",
       "      <td>99.943</td>\n",
       "      <td>170827</td>\n",
       "      <td>4</td>\n",
       "    </tr>\n",
       "    <tr>\n",
       "      <th>4</th>\n",
       "      <td>Photograph</td>\n",
       "      <td>Ed Sheeran</td>\n",
       "      <td>x (Deluxe Edition)</td>\n",
       "      <td>2014-06-21</td>\n",
       "      <td>0.614</td>\n",
       "      <td>0.379</td>\n",
       "      <td>4</td>\n",
       "      <td>-10.480</td>\n",
       "      <td>1</td>\n",
       "      <td>0.0476</td>\n",
       "      <td>0.6070</td>\n",
       "      <td>0.000464</td>\n",
       "      <td>0.0986</td>\n",
       "      <td>0.201</td>\n",
       "      <td>107.989</td>\n",
       "      <td>258987</td>\n",
       "      <td>4</td>\n",
       "    </tr>\n",
       "  </tbody>\n",
       "</table>\n",
       "</div>"
      ],
      "text/plain": [
       "               song        artist               album release_date  \\\n",
       "0  ...Ready For It?  Taylor Swift    ...Ready For It?   2017-09-03   \n",
       "1      Life Changes  Thomas Rhett        Life Changes   2017-09-08   \n",
       "2         24K Magic    Bruno Mars           24K Magic   2016-11-17   \n",
       "3       Galway Girl    Ed Sheeran          ÷ (Deluxe)   2017-03-03   \n",
       "4        Photograph    Ed Sheeran  x (Deluxe Edition)   2014-06-21   \n",
       "\n",
       "   danceability  energy  key  loudness  mode  speechiness  acousticness  \\\n",
       "0         0.615   0.779    2    -6.454     1       0.1350        0.0665   \n",
       "1         0.687   0.845    7    -4.370     1       0.0576        0.1000   \n",
       "2         0.818   0.803    1    -4.282     1       0.0797        0.0340   \n",
       "3         0.624   0.876    9    -3.374     1       0.1000        0.0735   \n",
       "4         0.614   0.379    4   -10.480     1       0.0476        0.6070   \n",
       "\n",
       "   instrumentalness  liveness  valence    tempo  duration  time_signature  \n",
       "0          0.000000    0.1550    0.453  160.000    208198               4  \n",
       "1          0.000000    0.0452    0.809   87.972    190227               4  \n",
       "2          0.000000    0.1530    0.632  106.970    225983               4  \n",
       "3          0.000000    0.3270    0.781   99.943    170827               4  \n",
       "4          0.000464    0.0986    0.201  107.989    258987               4  "
      ]
     },
     "execution_count": 33,
     "metadata": {},
     "output_type": "execute_result"
    }
   ],
   "source": [
    "song_df.head()"
   ]
  },
  {
   "cell_type": "code",
   "execution_count": 35,
   "id": "7e68473c-7f27-4332-8eb0-7011e745da64",
   "metadata": {},
   "outputs": [
    {
     "data": {
      "text/html": [
       "<div>\n",
       "<style scoped>\n",
       "    .dataframe tbody tr th:only-of-type {\n",
       "        vertical-align: middle;\n",
       "    }\n",
       "\n",
       "    .dataframe tbody tr th {\n",
       "        vertical-align: top;\n",
       "    }\n",
       "\n",
       "    .dataframe thead th {\n",
       "        text-align: right;\n",
       "    }\n",
       "</style>\n",
       "<table border=\"1\" class=\"dataframe\">\n",
       "  <thead>\n",
       "    <tr style=\"text-align: right;\">\n",
       "      <th></th>\n",
       "      <th>song</th>\n",
       "      <th>artist</th>\n",
       "      <th>album</th>\n",
       "      <th>release_date</th>\n",
       "      <th>danceability</th>\n",
       "      <th>energy</th>\n",
       "      <th>key</th>\n",
       "      <th>loudness</th>\n",
       "      <th>mode</th>\n",
       "      <th>speechiness</th>\n",
       "      <th>acousticness</th>\n",
       "      <th>instrumentalness</th>\n",
       "      <th>liveness</th>\n",
       "      <th>valence</th>\n",
       "      <th>tempo</th>\n",
       "      <th>duration</th>\n",
       "      <th>time_signature</th>\n",
       "    </tr>\n",
       "  </thead>\n",
       "  <tbody>\n",
       "    <tr>\n",
       "      <th>9956</th>\n",
       "      <td>Funeral For A Friend / Love Lies Bleeding</td>\n",
       "      <td>Elton John</td>\n",
       "      <td>Goodbye Yellow Brick Road (40th Anniversary Ce...</td>\n",
       "      <td>1973-10-05</td>\n",
       "      <td>0.410</td>\n",
       "      <td>0.761</td>\n",
       "      <td>9</td>\n",
       "      <td>-8.507</td>\n",
       "      <td>0</td>\n",
       "      <td>0.0465</td>\n",
       "      <td>0.01980</td>\n",
       "      <td>0.08470</td>\n",
       "      <td>0.2470</td>\n",
       "      <td>0.193</td>\n",
       "      <td>138.712</td>\n",
       "      <td>666572</td>\n",
       "      <td>4</td>\n",
       "    </tr>\n",
       "    <tr>\n",
       "      <th>9957</th>\n",
       "      <td>Fool's Overture</td>\n",
       "      <td>Supertramp</td>\n",
       "      <td>Even In The Quietest Moments</td>\n",
       "      <td>1977-01-01</td>\n",
       "      <td>0.406</td>\n",
       "      <td>0.306</td>\n",
       "      <td>3</td>\n",
       "      <td>-10.482</td>\n",
       "      <td>1</td>\n",
       "      <td>0.0372</td>\n",
       "      <td>0.31300</td>\n",
       "      <td>0.00790</td>\n",
       "      <td>0.0727</td>\n",
       "      <td>0.073</td>\n",
       "      <td>135.272</td>\n",
       "      <td>652560</td>\n",
       "      <td>4</td>\n",
       "    </tr>\n",
       "    <tr>\n",
       "      <th>9958</th>\n",
       "      <td>Heart of the Sunrise - 2003 Remaster</td>\n",
       "      <td>Yes</td>\n",
       "      <td>Fragile (Deluxe Edition)</td>\n",
       "      <td>1971-11-26</td>\n",
       "      <td>0.362</td>\n",
       "      <td>0.507</td>\n",
       "      <td>1</td>\n",
       "      <td>-11.229</td>\n",
       "      <td>1</td>\n",
       "      <td>0.0394</td>\n",
       "      <td>0.01740</td>\n",
       "      <td>0.21600</td>\n",
       "      <td>0.1130</td>\n",
       "      <td>0.456</td>\n",
       "      <td>146.641</td>\n",
       "      <td>634440</td>\n",
       "      <td>3</td>\n",
       "    </tr>\n",
       "    <tr>\n",
       "      <th>9959</th>\n",
       "      <td>Venus And Mars / Rock Show / Jet - Live / Rema...</td>\n",
       "      <td>Paul McCartney</td>\n",
       "      <td>Wings Over America (Remastered)</td>\n",
       "      <td>1976-12-10</td>\n",
       "      <td>0.331</td>\n",
       "      <td>0.733</td>\n",
       "      <td>2</td>\n",
       "      <td>-8.671</td>\n",
       "      <td>1</td>\n",
       "      <td>0.0468</td>\n",
       "      <td>0.08870</td>\n",
       "      <td>0.00174</td>\n",
       "      <td>0.9470</td>\n",
       "      <td>0.380</td>\n",
       "      <td>128.512</td>\n",
       "      <td>620747</td>\n",
       "      <td>4</td>\n",
       "    </tr>\n",
       "    <tr>\n",
       "      <th>9960</th>\n",
       "      <td>Mr. Brightside</td>\n",
       "      <td>The Killers</td>\n",
       "      <td>Hot Fuss</td>\n",
       "      <td>2004-06-15</td>\n",
       "      <td>0.342</td>\n",
       "      <td>0.932</td>\n",
       "      <td>1</td>\n",
       "      <td>-3.644</td>\n",
       "      <td>1</td>\n",
       "      <td>0.0868</td>\n",
       "      <td>0.00106</td>\n",
       "      <td>0.00000</td>\n",
       "      <td>0.0938</td>\n",
       "      <td>0.226</td>\n",
       "      <td>148.148</td>\n",
       "      <td>222107</td>\n",
       "      <td>4</td>\n",
       "    </tr>\n",
       "  </tbody>\n",
       "</table>\n",
       "</div>"
      ],
      "text/plain": [
       "                                                   song          artist  \\\n",
       "9956          Funeral For A Friend / Love Lies Bleeding      Elton John   \n",
       "9957                                    Fool's Overture      Supertramp   \n",
       "9958               Heart of the Sunrise - 2003 Remaster             Yes   \n",
       "9959  Venus And Mars / Rock Show / Jet - Live / Rema...  Paul McCartney   \n",
       "9960                                     Mr. Brightside     The Killers   \n",
       "\n",
       "                                                  album release_date  \\\n",
       "9956  Goodbye Yellow Brick Road (40th Anniversary Ce...   1973-10-05   \n",
       "9957                       Even In The Quietest Moments   1977-01-01   \n",
       "9958                           Fragile (Deluxe Edition)   1971-11-26   \n",
       "9959                    Wings Over America (Remastered)   1976-12-10   \n",
       "9960                                           Hot Fuss   2004-06-15   \n",
       "\n",
       "      danceability  energy  key  loudness  mode  speechiness  acousticness  \\\n",
       "9956         0.410   0.761    9    -8.507     0       0.0465       0.01980   \n",
       "9957         0.406   0.306    3   -10.482     1       0.0372       0.31300   \n",
       "9958         0.362   0.507    1   -11.229     1       0.0394       0.01740   \n",
       "9959         0.331   0.733    2    -8.671     1       0.0468       0.08870   \n",
       "9960         0.342   0.932    1    -3.644     1       0.0868       0.00106   \n",
       "\n",
       "      instrumentalness  liveness  valence    tempo  duration  time_signature  \n",
       "9956           0.08470    0.2470    0.193  138.712    666572               4  \n",
       "9957           0.00790    0.0727    0.073  135.272    652560               4  \n",
       "9958           0.21600    0.1130    0.456  146.641    634440               3  \n",
       "9959           0.00174    0.9470    0.380  128.512    620747               4  \n",
       "9960           0.00000    0.0938    0.226  148.148    222107               4  "
      ]
     },
     "execution_count": 35,
     "metadata": {},
     "output_type": "execute_result"
    }
   ],
   "source": [
    "song_df.tail()"
   ]
  },
  {
   "cell_type": "code",
   "execution_count": 34,
   "id": "fb7c1880-f3f1-4bc7-af99-7eb51eb245ae",
   "metadata": {},
   "outputs": [
    {
     "data": {
      "text/plain": [
       "9961"
      ]
     },
     "execution_count": 34,
     "metadata": {},
     "output_type": "execute_result"
    }
   ],
   "source": [
    "len(song_df)"
   ]
  },
  {
   "cell_type": "markdown",
   "id": "7116a492-7339-4271-b7f0-7c95e6be15fa",
   "metadata": {},
   "source": [
    "It looks like we lost only 39 songs, so we still have a good number of songs. Now we can move onto cleaning and EDA."
   ]
  },
  {
   "cell_type": "markdown",
   "id": "14e23a98-8894-444a-9a73-7f8b6e3e345f",
   "metadata": {},
   "source": [
    "### Create csv file"
   ]
  },
  {
   "cell_type": "code",
   "execution_count": 36,
   "id": "426698b7-e633-4f46-96bd-3ebd9c541a2f",
   "metadata": {},
   "outputs": [],
   "source": [
    "# save to csv for use in our eda and modeling\n",
    "song_df.to_csv('../data/spotify_songs.csv', index=False)"
   ]
  }
 ],
 "metadata": {
  "kernelspec": {
   "display_name": "Python 3 (ipykernel)",
   "language": "python",
   "name": "python3"
  },
  "language_info": {
   "codemirror_mode": {
    "name": "ipython",
    "version": 3
   },
   "file_extension": ".py",
   "mimetype": "text/x-python",
   "name": "python",
   "nbconvert_exporter": "python",
   "pygments_lexer": "ipython3",
   "version": "3.8.3"
  }
 },
 "nbformat": 4,
 "nbformat_minor": 5
}

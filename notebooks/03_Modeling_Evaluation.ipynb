{
 "cells": [
  {
   "cell_type": "markdown",
   "id": "5eac8c94-7e52-4abc-87ab-4b873a246412",
   "metadata": {},
   "source": [
    "# Modeling and Evaluation"
   ]
  },
  {
   "cell_type": "code",
   "execution_count": 1,
   "id": "d8c7bd8f-3f51-4377-aa6f-e76e4faf3b0a",
   "metadata": {},
   "outputs": [],
   "source": [
    "# imports\n",
    "import pandas as pd\n",
    "import numpy as np\n",
    "import matplotlib.pyplot as plt\n",
    "import seaborn as sns\n",
    "\n",
    "from sklearn.preprocessing import StandardScaler\n",
    "from sklearn.linear_model import LogisticRegression\n",
    "from sklearn.ensemble import RandomForestClassifier, GradientBoostingClassifier, StackingClassifier\n",
    "from sklearn.naive_bayes import MultinomialNB\n",
    "\n",
    "from sklearn.model_selection import train_test_split, GridSearchCV\n",
    "from sklearn.pipeline import Pipeline\n",
    "from sklearn.metrics import accuracy_score, mean_squared_error, f1_score, precision_score,recall_score, confusion_matrix\n",
    "\n",
    "from sklearn.metrics.pairwise import cosine_similarity"
   ]
  },
  {
   "cell_type": "markdown",
   "id": "9ef75c54-1d86-4227-a732-0dd8fd1f23f4",
   "metadata": {},
   "source": [
    "## Modeling"
   ]
  },
  {
   "cell_type": "code",
   "execution_count": 2,
   "id": "d5f01fcc-febb-4964-8739-da4340cee024",
   "metadata": {},
   "outputs": [
    {
     "data": {
      "text/html": [
       "<div>\n",
       "<style scoped>\n",
       "    .dataframe tbody tr th:only-of-type {\n",
       "        vertical-align: middle;\n",
       "    }\n",
       "\n",
       "    .dataframe tbody tr th {\n",
       "        vertical-align: top;\n",
       "    }\n",
       "\n",
       "    .dataframe thead th {\n",
       "        text-align: right;\n",
       "    }\n",
       "</style>\n",
       "<table border=\"1\" class=\"dataframe\">\n",
       "  <thead>\n",
       "    <tr style=\"text-align: right;\">\n",
       "      <th></th>\n",
       "      <th>song</th>\n",
       "      <th>artist</th>\n",
       "      <th>album</th>\n",
       "      <th>release_date</th>\n",
       "      <th>danceability</th>\n",
       "      <th>energy</th>\n",
       "      <th>key</th>\n",
       "      <th>loudness</th>\n",
       "      <th>mode</th>\n",
       "      <th>speechiness</th>\n",
       "      <th>acousticness</th>\n",
       "      <th>instrumentalness</th>\n",
       "      <th>liveness</th>\n",
       "      <th>valence</th>\n",
       "      <th>tempo</th>\n",
       "      <th>duration</th>\n",
       "      <th>time_signature</th>\n",
       "      <th>kmeans_cluster</th>\n",
       "      <th>dbscan_cluster</th>\n",
       "    </tr>\n",
       "  </thead>\n",
       "  <tbody>\n",
       "    <tr>\n",
       "      <th>0</th>\n",
       "      <td>...Ready For It?</td>\n",
       "      <td>Taylor Swift</td>\n",
       "      <td>...Ready For It?</td>\n",
       "      <td>2017-09-03</td>\n",
       "      <td>0.615</td>\n",
       "      <td>0.779</td>\n",
       "      <td>2</td>\n",
       "      <td>-6.454</td>\n",
       "      <td>1</td>\n",
       "      <td>0.1350</td>\n",
       "      <td>0.0665</td>\n",
       "      <td>0.000000</td>\n",
       "      <td>0.1550</td>\n",
       "      <td>0.453</td>\n",
       "      <td>160.000</td>\n",
       "      <td>208198</td>\n",
       "      <td>4</td>\n",
       "      <td>7</td>\n",
       "      <td>0</td>\n",
       "    </tr>\n",
       "    <tr>\n",
       "      <th>1</th>\n",
       "      <td>Life Changes</td>\n",
       "      <td>Thomas Rhett</td>\n",
       "      <td>Life Changes</td>\n",
       "      <td>2017-09-08</td>\n",
       "      <td>0.687</td>\n",
       "      <td>0.845</td>\n",
       "      <td>7</td>\n",
       "      <td>-4.370</td>\n",
       "      <td>1</td>\n",
       "      <td>0.0576</td>\n",
       "      <td>0.1000</td>\n",
       "      <td>0.000000</td>\n",
       "      <td>0.0452</td>\n",
       "      <td>0.809</td>\n",
       "      <td>87.972</td>\n",
       "      <td>190227</td>\n",
       "      <td>4</td>\n",
       "      <td>0</td>\n",
       "      <td>0</td>\n",
       "    </tr>\n",
       "    <tr>\n",
       "      <th>2</th>\n",
       "      <td>24K Magic</td>\n",
       "      <td>Bruno Mars</td>\n",
       "      <td>24K Magic</td>\n",
       "      <td>2016-11-17</td>\n",
       "      <td>0.818</td>\n",
       "      <td>0.803</td>\n",
       "      <td>1</td>\n",
       "      <td>-4.282</td>\n",
       "      <td>1</td>\n",
       "      <td>0.0797</td>\n",
       "      <td>0.0340</td>\n",
       "      <td>0.000000</td>\n",
       "      <td>0.1530</td>\n",
       "      <td>0.632</td>\n",
       "      <td>106.970</td>\n",
       "      <td>225983</td>\n",
       "      <td>4</td>\n",
       "      <td>0</td>\n",
       "      <td>0</td>\n",
       "    </tr>\n",
       "    <tr>\n",
       "      <th>3</th>\n",
       "      <td>Galway Girl</td>\n",
       "      <td>Ed Sheeran</td>\n",
       "      <td>÷ (Deluxe)</td>\n",
       "      <td>2017-03-03</td>\n",
       "      <td>0.624</td>\n",
       "      <td>0.876</td>\n",
       "      <td>9</td>\n",
       "      <td>-3.374</td>\n",
       "      <td>1</td>\n",
       "      <td>0.1000</td>\n",
       "      <td>0.0735</td>\n",
       "      <td>0.000000</td>\n",
       "      <td>0.3270</td>\n",
       "      <td>0.781</td>\n",
       "      <td>99.943</td>\n",
       "      <td>170827</td>\n",
       "      <td>4</td>\n",
       "      <td>2</td>\n",
       "      <td>0</td>\n",
       "    </tr>\n",
       "    <tr>\n",
       "      <th>4</th>\n",
       "      <td>Photograph</td>\n",
       "      <td>Ed Sheeran</td>\n",
       "      <td>x (Deluxe Edition)</td>\n",
       "      <td>2014-06-21</td>\n",
       "      <td>0.614</td>\n",
       "      <td>0.379</td>\n",
       "      <td>4</td>\n",
       "      <td>-10.480</td>\n",
       "      <td>1</td>\n",
       "      <td>0.0476</td>\n",
       "      <td>0.6070</td>\n",
       "      <td>0.000464</td>\n",
       "      <td>0.0986</td>\n",
       "      <td>0.201</td>\n",
       "      <td>107.989</td>\n",
       "      <td>258987</td>\n",
       "      <td>4</td>\n",
       "      <td>3</td>\n",
       "      <td>0</td>\n",
       "    </tr>\n",
       "  </tbody>\n",
       "</table>\n",
       "</div>"
      ],
      "text/plain": [
       "               song        artist               album release_date  \\\n",
       "0  ...Ready For It?  Taylor Swift    ...Ready For It?   2017-09-03   \n",
       "1      Life Changes  Thomas Rhett        Life Changes   2017-09-08   \n",
       "2         24K Magic    Bruno Mars           24K Magic   2016-11-17   \n",
       "3       Galway Girl    Ed Sheeran          ÷ (Deluxe)   2017-03-03   \n",
       "4        Photograph    Ed Sheeran  x (Deluxe Edition)   2014-06-21   \n",
       "\n",
       "   danceability  energy  key  loudness  mode  speechiness  acousticness  \\\n",
       "0         0.615   0.779    2    -6.454     1       0.1350        0.0665   \n",
       "1         0.687   0.845    7    -4.370     1       0.0576        0.1000   \n",
       "2         0.818   0.803    1    -4.282     1       0.0797        0.0340   \n",
       "3         0.624   0.876    9    -3.374     1       0.1000        0.0735   \n",
       "4         0.614   0.379    4   -10.480     1       0.0476        0.6070   \n",
       "\n",
       "   instrumentalness  liveness  valence    tempo  duration  time_signature  \\\n",
       "0          0.000000    0.1550    0.453  160.000    208198               4   \n",
       "1          0.000000    0.0452    0.809   87.972    190227               4   \n",
       "2          0.000000    0.1530    0.632  106.970    225983               4   \n",
       "3          0.000000    0.3270    0.781   99.943    170827               4   \n",
       "4          0.000464    0.0986    0.201  107.989    258987               4   \n",
       "\n",
       "   kmeans_cluster  dbscan_cluster  \n",
       "0               7               0  \n",
       "1               0               0  \n",
       "2               0               0  \n",
       "3               2               0  \n",
       "4               3               0  "
      ]
     },
     "execution_count": 2,
     "metadata": {},
     "output_type": "execute_result"
    }
   ],
   "source": [
    "# read in data from csv with cluster labels\n",
    "songs= pd.read_csv(\"../data/spotify_songs_clustered.csv\")\n",
    "songs.head()"
   ]
  },
  {
   "cell_type": "code",
   "execution_count": 3,
   "id": "7b92b677-2378-4290-937d-0a3d51c0e0bc",
   "metadata": {},
   "outputs": [],
   "source": [
    "# make function to evaluate model\n",
    "def model_metrics(name, y_test, y_pred):\n",
    "    \"\"\"\n",
    "    This function provides testing evaluation metrics for a classification model.\n",
    "    Parameters:\n",
    "        name (str): The name of the model.\n",
    "        y_test (array): The true labels from the testing data.\n",
    "        y_pred (array): The predicted labels created by the model.\n",
    "\n",
    "    The function then returns a dictionary with these evaluation metrics: accuracy, precision, recall, f1_score\n",
    "    \"\"\"\n",
    "    \n",
    "    metrics_dict= {}\n",
    "    accuracy= accuracy_score(y_test, y_pred)\n",
    "    precision = precision_score(y_test, y_pred, average='weighted')\n",
    "    recall = recall_score(y_test, y_pred, average='weighted')\n",
    "    f1 = f1_score(y_test, y_pred, average='weighted')\n",
    "    \n",
    "    metrics_dict[\"model\"] = name\n",
    "    metrics_dict[\"accuracy\"] = accuracy\n",
    "    metrics_dict[\"precision\"] = precision\n",
    "    metrics_dict[\"recall\"] = recall\n",
    "    metrics_dict[\"f1_score\"] = f1\n",
    "    return metrics_dict"
   ]
  },
  {
   "cell_type": "markdown",
   "id": "c78ca401-2d6a-41b1-9a9d-6eead3521114",
   "metadata": {},
   "source": [
    "### Multiclass Classification Modeling"
   ]
  },
  {
   "cell_type": "markdown",
   "id": "b186f757-76c2-4074-b7fe-e3298f21e9e4",
   "metadata": {},
   "source": [
    "Given a new song, we want to be able to classify the song into the appropriate cluster. In this section, we will find the best model at classifying a song into the appropriate cluster."
   ]
  },
  {
   "cell_type": "code",
   "execution_count": 4,
   "id": "eb0b6fc0-e5cf-4fa1-bb0e-c03eccb3ba94",
   "metadata": {},
   "outputs": [
    {
     "data": {
      "text/plain": [
       "['danceability',\n",
       " 'energy',\n",
       " 'key',\n",
       " 'loudness',\n",
       " 'mode',\n",
       " 'speechiness',\n",
       " 'acousticness',\n",
       " 'instrumentalness',\n",
       " 'liveness',\n",
       " 'valence',\n",
       " 'tempo',\n",
       " 'duration',\n",
       " 'time_signature']"
      ]
     },
     "execution_count": 4,
     "metadata": {},
     "output_type": "execute_result"
    }
   ],
   "source": [
    "features= songs.drop(columns=[\"song\", \"artist\", \"album\", \n",
    "                              \"release_date\", \"kmeans_cluster\", \"dbscan_cluster\"]).columns.to_list()\n",
    "features"
   ]
  },
  {
   "cell_type": "code",
   "execution_count": 5,
   "id": "2597a21e-466e-416c-bb08-2032270020f1",
   "metadata": {},
   "outputs": [
    {
     "data": {
      "text/plain": [
       "7    0.266334\n",
       "0    0.248412\n",
       "3    0.154038\n",
       "2    0.132373\n",
       "4    0.058530\n",
       "5    0.057055\n",
       "8    0.044578\n",
       "1    0.035163\n",
       "6    0.003516\n",
       "Name: kmeans_cluster, dtype: float64"
      ]
     },
     "execution_count": 5,
     "metadata": {},
     "output_type": "execute_result"
    }
   ],
   "source": [
    "# using kmeans clusters\n",
    "X= songs[features]\n",
    "y= songs[\"kmeans_cluster\"]\n",
    "\n",
    "y.value_counts(normalize= True) # will be stratifying in train test split bc of imbalanced data"
   ]
  },
  {
   "cell_type": "code",
   "execution_count": 6,
   "id": "c8174b5d-0f8c-409a-99df-0994348c037e",
   "metadata": {},
   "outputs": [],
   "source": [
    "# split into train and test \n",
    "X_train, X_test, y_train, y_test= train_test_split(X,y, random_state= 13, stratify= y)"
   ]
  },
  {
   "cell_type": "markdown",
   "id": "056b81cc-0af0-4458-a2f7-b5db68c0ca39",
   "metadata": {},
   "source": [
    "**Logistic Regression**"
   ]
  },
  {
   "cell_type": "code",
   "execution_count": 7,
   "id": "ad187a28-9635-4567-9424-3a588decda67",
   "metadata": {},
   "outputs": [
    {
     "data": {
      "text/html": [
       "<style>#sk-container-id-1 {color: black;background-color: white;}#sk-container-id-1 pre{padding: 0;}#sk-container-id-1 div.sk-toggleable {background-color: white;}#sk-container-id-1 label.sk-toggleable__label {cursor: pointer;display: block;width: 100%;margin-bottom: 0;padding: 0.3em;box-sizing: border-box;text-align: center;}#sk-container-id-1 label.sk-toggleable__label-arrow:before {content: \"▸\";float: left;margin-right: 0.25em;color: #696969;}#sk-container-id-1 label.sk-toggleable__label-arrow:hover:before {color: black;}#sk-container-id-1 div.sk-estimator:hover label.sk-toggleable__label-arrow:before {color: black;}#sk-container-id-1 div.sk-toggleable__content {max-height: 0;max-width: 0;overflow: hidden;text-align: left;background-color: #f0f8ff;}#sk-container-id-1 div.sk-toggleable__content pre {margin: 0.2em;color: black;border-radius: 0.25em;background-color: #f0f8ff;}#sk-container-id-1 input.sk-toggleable__control:checked~div.sk-toggleable__content {max-height: 200px;max-width: 100%;overflow: auto;}#sk-container-id-1 input.sk-toggleable__control:checked~label.sk-toggleable__label-arrow:before {content: \"▾\";}#sk-container-id-1 div.sk-estimator input.sk-toggleable__control:checked~label.sk-toggleable__label {background-color: #d4ebff;}#sk-container-id-1 div.sk-label input.sk-toggleable__control:checked~label.sk-toggleable__label {background-color: #d4ebff;}#sk-container-id-1 input.sk-hidden--visually {border: 0;clip: rect(1px 1px 1px 1px);clip: rect(1px, 1px, 1px, 1px);height: 1px;margin: -1px;overflow: hidden;padding: 0;position: absolute;width: 1px;}#sk-container-id-1 div.sk-estimator {font-family: monospace;background-color: #f0f8ff;border: 1px dotted black;border-radius: 0.25em;box-sizing: border-box;margin-bottom: 0.5em;}#sk-container-id-1 div.sk-estimator:hover {background-color: #d4ebff;}#sk-container-id-1 div.sk-parallel-item::after {content: \"\";width: 100%;border-bottom: 1px solid gray;flex-grow: 1;}#sk-container-id-1 div.sk-label:hover label.sk-toggleable__label {background-color: #d4ebff;}#sk-container-id-1 div.sk-serial::before {content: \"\";position: absolute;border-left: 1px solid gray;box-sizing: border-box;top: 0;bottom: 0;left: 50%;z-index: 0;}#sk-container-id-1 div.sk-serial {display: flex;flex-direction: column;align-items: center;background-color: white;padding-right: 0.2em;padding-left: 0.2em;position: relative;}#sk-container-id-1 div.sk-item {position: relative;z-index: 1;}#sk-container-id-1 div.sk-parallel {display: flex;align-items: stretch;justify-content: center;background-color: white;position: relative;}#sk-container-id-1 div.sk-item::before, #sk-container-id-1 div.sk-parallel-item::before {content: \"\";position: absolute;border-left: 1px solid gray;box-sizing: border-box;top: 0;bottom: 0;left: 50%;z-index: -1;}#sk-container-id-1 div.sk-parallel-item {display: flex;flex-direction: column;z-index: 1;position: relative;background-color: white;}#sk-container-id-1 div.sk-parallel-item:first-child::after {align-self: flex-end;width: 50%;}#sk-container-id-1 div.sk-parallel-item:last-child::after {align-self: flex-start;width: 50%;}#sk-container-id-1 div.sk-parallel-item:only-child::after {width: 0;}#sk-container-id-1 div.sk-dashed-wrapped {border: 1px dashed gray;margin: 0 0.4em 0.5em 0.4em;box-sizing: border-box;padding-bottom: 0.4em;background-color: white;}#sk-container-id-1 div.sk-label label {font-family: monospace;font-weight: bold;display: inline-block;line-height: 1.2em;}#sk-container-id-1 div.sk-label-container {text-align: center;}#sk-container-id-1 div.sk-container {/* jupyter's `normalize.less` sets `[hidden] { display: none; }` but bootstrap.min.css set `[hidden] { display: none !important; }` so we also need the `!important` here to be able to override the default hidden behavior on the sphinx rendered scikit-learn.org. See: https://github.com/scikit-learn/scikit-learn/issues/21755 */display: inline-block !important;position: relative;}#sk-container-id-1 div.sk-text-repr-fallback {display: none;}</style><div id=\"sk-container-id-1\" class=\"sk-top-container\"><div class=\"sk-text-repr-fallback\"><pre>Pipeline(steps=[(&#x27;sc&#x27;, StandardScaler()),\n",
       "                (&#x27;logreg&#x27;, LogisticRegression(max_iter=1000, random_state=13))])</pre><b>In a Jupyter environment, please rerun this cell to show the HTML representation or trust the notebook. <br />On GitHub, the HTML representation is unable to render, please try loading this page with nbviewer.org.</b></div><div class=\"sk-container\" hidden><div class=\"sk-item sk-dashed-wrapped\"><div class=\"sk-label-container\"><div class=\"sk-label sk-toggleable\"><input class=\"sk-toggleable__control sk-hidden--visually\" id=\"sk-estimator-id-1\" type=\"checkbox\" ><label for=\"sk-estimator-id-1\" class=\"sk-toggleable__label sk-toggleable__label-arrow\">Pipeline</label><div class=\"sk-toggleable__content\"><pre>Pipeline(steps=[(&#x27;sc&#x27;, StandardScaler()),\n",
       "                (&#x27;logreg&#x27;, LogisticRegression(max_iter=1000, random_state=13))])</pre></div></div></div><div class=\"sk-serial\"><div class=\"sk-item\"><div class=\"sk-estimator sk-toggleable\"><input class=\"sk-toggleable__control sk-hidden--visually\" id=\"sk-estimator-id-2\" type=\"checkbox\" ><label for=\"sk-estimator-id-2\" class=\"sk-toggleable__label sk-toggleable__label-arrow\">StandardScaler</label><div class=\"sk-toggleable__content\"><pre>StandardScaler()</pre></div></div></div><div class=\"sk-item\"><div class=\"sk-estimator sk-toggleable\"><input class=\"sk-toggleable__control sk-hidden--visually\" id=\"sk-estimator-id-3\" type=\"checkbox\" ><label for=\"sk-estimator-id-3\" class=\"sk-toggleable__label sk-toggleable__label-arrow\">LogisticRegression</label><div class=\"sk-toggleable__content\"><pre>LogisticRegression(max_iter=1000, random_state=13)</pre></div></div></div></div></div></div></div>"
      ],
      "text/plain": [
       "Pipeline(steps=[('sc', StandardScaler()),\n",
       "                ('logreg', LogisticRegression(max_iter=1000, random_state=13))])"
      ]
     },
     "execution_count": 7,
     "metadata": {},
     "output_type": "execute_result"
    }
   ],
   "source": [
    "pipe1 = Pipeline([\n",
    "    (\"sc\", StandardScaler()),\n",
    "    (\"logreg\", LogisticRegression(max_iter= 1000, random_state= 13))\n",
    "])\n",
    "pipe1.fit(X_train, y_train)"
   ]
  },
  {
   "cell_type": "code",
   "execution_count": 8,
   "id": "a7bb7715-c3c9-4c0e-954c-39f96e1e364a",
   "metadata": {},
   "outputs": [],
   "source": [
    "logreg_preds= pipe1.predict(X_test)"
   ]
  },
  {
   "cell_type": "code",
   "execution_count": 9,
   "id": "6cc40aca-4624-4f6a-9251-acf7e2efcad1",
   "metadata": {},
   "outputs": [
    {
     "data": {
      "text/plain": [
       "0.9823049001814882"
      ]
     },
     "execution_count": 9,
     "metadata": {},
     "output_type": "execute_result"
    }
   ],
   "source": [
    "pipe1.score(X_train, y_train)"
   ]
  },
  {
   "cell_type": "code",
   "execution_count": 10,
   "id": "74b7dcc9-0804-499c-a6ff-da0b476ba26d",
   "metadata": {},
   "outputs": [
    {
     "data": {
      "text/plain": [
       "0.9773139745916516"
      ]
     },
     "execution_count": 10,
     "metadata": {},
     "output_type": "execute_result"
    }
   ],
   "source": [
    "pipe1.score(X_test, y_test)"
   ]
  },
  {
   "cell_type": "markdown",
   "id": "c1f0628b-81d6-47f1-ac79-0d55c3858364",
   "metadata": {},
   "source": [
    "**These two scores are pretty close, so I don't feel the need to gridsearch.**"
   ]
  },
  {
   "cell_type": "code",
   "execution_count": 11,
   "id": "f7dd4c0f-d207-49d8-b404-ff6120dc8179",
   "metadata": {},
   "outputs": [
    {
     "data": {
      "text/plain": [
       "{'model': 'Logistic Regression',\n",
       " 'accuracy': 0.9773139745916516,\n",
       " 'precision': 0.9774634372221589,\n",
       " 'recall': 0.9773139745916516,\n",
       " 'f1_score': 0.9773247671957884}"
      ]
     },
     "execution_count": 11,
     "metadata": {},
     "output_type": "execute_result"
    }
   ],
   "source": [
    "model_metrics(\"Logistic Regression\", y_test, logreg_preds)"
   ]
  },
  {
   "cell_type": "code",
   "execution_count": 12,
   "id": "bf844aa7-d90d-44d5-9ead-f0a5aa1c517c",
   "metadata": {},
   "outputs": [],
   "source": [
    "# saving model metrics into a list\n",
    "model_metrics_list= []\n",
    "model_metrics_list.append(model_metrics(\"Logistic Regression\", y_test, logreg_preds))"
   ]
  },
  {
   "cell_type": "markdown",
   "id": "8dbccba2-0de4-4556-99bd-a372c607af4b",
   "metadata": {},
   "source": [
    "**Random Forest**"
   ]
  },
  {
   "cell_type": "code",
   "execution_count": 13,
   "id": "cc1dbfca-27f9-48d8-80e7-68813279fc50",
   "metadata": {},
   "outputs": [
    {
     "data": {
      "text/html": [
       "<style>#sk-container-id-2 {color: black;background-color: white;}#sk-container-id-2 pre{padding: 0;}#sk-container-id-2 div.sk-toggleable {background-color: white;}#sk-container-id-2 label.sk-toggleable__label {cursor: pointer;display: block;width: 100%;margin-bottom: 0;padding: 0.3em;box-sizing: border-box;text-align: center;}#sk-container-id-2 label.sk-toggleable__label-arrow:before {content: \"▸\";float: left;margin-right: 0.25em;color: #696969;}#sk-container-id-2 label.sk-toggleable__label-arrow:hover:before {color: black;}#sk-container-id-2 div.sk-estimator:hover label.sk-toggleable__label-arrow:before {color: black;}#sk-container-id-2 div.sk-toggleable__content {max-height: 0;max-width: 0;overflow: hidden;text-align: left;background-color: #f0f8ff;}#sk-container-id-2 div.sk-toggleable__content pre {margin: 0.2em;color: black;border-radius: 0.25em;background-color: #f0f8ff;}#sk-container-id-2 input.sk-toggleable__control:checked~div.sk-toggleable__content {max-height: 200px;max-width: 100%;overflow: auto;}#sk-container-id-2 input.sk-toggleable__control:checked~label.sk-toggleable__label-arrow:before {content: \"▾\";}#sk-container-id-2 div.sk-estimator input.sk-toggleable__control:checked~label.sk-toggleable__label {background-color: #d4ebff;}#sk-container-id-2 div.sk-label input.sk-toggleable__control:checked~label.sk-toggleable__label {background-color: #d4ebff;}#sk-container-id-2 input.sk-hidden--visually {border: 0;clip: rect(1px 1px 1px 1px);clip: rect(1px, 1px, 1px, 1px);height: 1px;margin: -1px;overflow: hidden;padding: 0;position: absolute;width: 1px;}#sk-container-id-2 div.sk-estimator {font-family: monospace;background-color: #f0f8ff;border: 1px dotted black;border-radius: 0.25em;box-sizing: border-box;margin-bottom: 0.5em;}#sk-container-id-2 div.sk-estimator:hover {background-color: #d4ebff;}#sk-container-id-2 div.sk-parallel-item::after {content: \"\";width: 100%;border-bottom: 1px solid gray;flex-grow: 1;}#sk-container-id-2 div.sk-label:hover label.sk-toggleable__label {background-color: #d4ebff;}#sk-container-id-2 div.sk-serial::before {content: \"\";position: absolute;border-left: 1px solid gray;box-sizing: border-box;top: 0;bottom: 0;left: 50%;z-index: 0;}#sk-container-id-2 div.sk-serial {display: flex;flex-direction: column;align-items: center;background-color: white;padding-right: 0.2em;padding-left: 0.2em;position: relative;}#sk-container-id-2 div.sk-item {position: relative;z-index: 1;}#sk-container-id-2 div.sk-parallel {display: flex;align-items: stretch;justify-content: center;background-color: white;position: relative;}#sk-container-id-2 div.sk-item::before, #sk-container-id-2 div.sk-parallel-item::before {content: \"\";position: absolute;border-left: 1px solid gray;box-sizing: border-box;top: 0;bottom: 0;left: 50%;z-index: -1;}#sk-container-id-2 div.sk-parallel-item {display: flex;flex-direction: column;z-index: 1;position: relative;background-color: white;}#sk-container-id-2 div.sk-parallel-item:first-child::after {align-self: flex-end;width: 50%;}#sk-container-id-2 div.sk-parallel-item:last-child::after {align-self: flex-start;width: 50%;}#sk-container-id-2 div.sk-parallel-item:only-child::after {width: 0;}#sk-container-id-2 div.sk-dashed-wrapped {border: 1px dashed gray;margin: 0 0.4em 0.5em 0.4em;box-sizing: border-box;padding-bottom: 0.4em;background-color: white;}#sk-container-id-2 div.sk-label label {font-family: monospace;font-weight: bold;display: inline-block;line-height: 1.2em;}#sk-container-id-2 div.sk-label-container {text-align: center;}#sk-container-id-2 div.sk-container {/* jupyter's `normalize.less` sets `[hidden] { display: none; }` but bootstrap.min.css set `[hidden] { display: none !important; }` so we also need the `!important` here to be able to override the default hidden behavior on the sphinx rendered scikit-learn.org. See: https://github.com/scikit-learn/scikit-learn/issues/21755 */display: inline-block !important;position: relative;}#sk-container-id-2 div.sk-text-repr-fallback {display: none;}</style><div id=\"sk-container-id-2\" class=\"sk-top-container\"><div class=\"sk-text-repr-fallback\"><pre>Pipeline(steps=[(&#x27;sc&#x27;, StandardScaler()),\n",
       "                (&#x27;rf&#x27;, RandomForestClassifier(random_state=13))])</pre><b>In a Jupyter environment, please rerun this cell to show the HTML representation or trust the notebook. <br />On GitHub, the HTML representation is unable to render, please try loading this page with nbviewer.org.</b></div><div class=\"sk-container\" hidden><div class=\"sk-item sk-dashed-wrapped\"><div class=\"sk-label-container\"><div class=\"sk-label sk-toggleable\"><input class=\"sk-toggleable__control sk-hidden--visually\" id=\"sk-estimator-id-4\" type=\"checkbox\" ><label for=\"sk-estimator-id-4\" class=\"sk-toggleable__label sk-toggleable__label-arrow\">Pipeline</label><div class=\"sk-toggleable__content\"><pre>Pipeline(steps=[(&#x27;sc&#x27;, StandardScaler()),\n",
       "                (&#x27;rf&#x27;, RandomForestClassifier(random_state=13))])</pre></div></div></div><div class=\"sk-serial\"><div class=\"sk-item\"><div class=\"sk-estimator sk-toggleable\"><input class=\"sk-toggleable__control sk-hidden--visually\" id=\"sk-estimator-id-5\" type=\"checkbox\" ><label for=\"sk-estimator-id-5\" class=\"sk-toggleable__label sk-toggleable__label-arrow\">StandardScaler</label><div class=\"sk-toggleable__content\"><pre>StandardScaler()</pre></div></div></div><div class=\"sk-item\"><div class=\"sk-estimator sk-toggleable\"><input class=\"sk-toggleable__control sk-hidden--visually\" id=\"sk-estimator-id-6\" type=\"checkbox\" ><label for=\"sk-estimator-id-6\" class=\"sk-toggleable__label sk-toggleable__label-arrow\">RandomForestClassifier</label><div class=\"sk-toggleable__content\"><pre>RandomForestClassifier(random_state=13)</pre></div></div></div></div></div></div></div>"
      ],
      "text/plain": [
       "Pipeline(steps=[('sc', StandardScaler()),\n",
       "                ('rf', RandomForestClassifier(random_state=13))])"
      ]
     },
     "execution_count": 13,
     "metadata": {},
     "output_type": "execute_result"
    }
   ],
   "source": [
    "pipe2 = Pipeline([\n",
    "    (\"sc\", StandardScaler()),\n",
    "    (\"rf\", RandomForestClassifier(random_state= 13))\n",
    "])\n",
    "pipe2.fit(X_train, y_train)"
   ]
  },
  {
   "cell_type": "code",
   "execution_count": 14,
   "id": "d792a614-5b66-4c9e-9523-8e7d2f893b9c",
   "metadata": {},
   "outputs": [],
   "source": [
    "rf_preds= pipe2.predict(X_test)"
   ]
  },
  {
   "cell_type": "code",
   "execution_count": 15,
   "id": "19aa51d0-42f1-4bb6-a3c6-7481393545a8",
   "metadata": {},
   "outputs": [
    {
     "data": {
      "text/plain": [
       "1.0"
      ]
     },
     "execution_count": 15,
     "metadata": {},
     "output_type": "execute_result"
    }
   ],
   "source": [
    "pipe2.score(X_train, y_train)"
   ]
  },
  {
   "cell_type": "code",
   "execution_count": 16,
   "id": "4306d6eb-5597-4d3c-b8eb-351620e8beff",
   "metadata": {},
   "outputs": [
    {
     "data": {
      "text/plain": [
       "0.9546279491833031"
      ]
     },
     "execution_count": 16,
     "metadata": {},
     "output_type": "execute_result"
    }
   ],
   "source": [
    "pipe2.score(X_test, y_test)"
   ]
  },
  {
   "cell_type": "markdown",
   "id": "cf8c2e9d-7686-4be0-ad9e-da03b881ee4a",
   "metadata": {},
   "source": [
    "There is overfitting. Let's try gridsearching."
   ]
  },
  {
   "cell_type": "code",
   "execution_count": 17,
   "id": "becb2d3b-f2f5-456e-9b56-f1eee7a2b7cc",
   "metadata": {},
   "outputs": [
    {
     "data": {
      "text/html": [
       "<style>#sk-container-id-3 {color: black;background-color: white;}#sk-container-id-3 pre{padding: 0;}#sk-container-id-3 div.sk-toggleable {background-color: white;}#sk-container-id-3 label.sk-toggleable__label {cursor: pointer;display: block;width: 100%;margin-bottom: 0;padding: 0.3em;box-sizing: border-box;text-align: center;}#sk-container-id-3 label.sk-toggleable__label-arrow:before {content: \"▸\";float: left;margin-right: 0.25em;color: #696969;}#sk-container-id-3 label.sk-toggleable__label-arrow:hover:before {color: black;}#sk-container-id-3 div.sk-estimator:hover label.sk-toggleable__label-arrow:before {color: black;}#sk-container-id-3 div.sk-toggleable__content {max-height: 0;max-width: 0;overflow: hidden;text-align: left;background-color: #f0f8ff;}#sk-container-id-3 div.sk-toggleable__content pre {margin: 0.2em;color: black;border-radius: 0.25em;background-color: #f0f8ff;}#sk-container-id-3 input.sk-toggleable__control:checked~div.sk-toggleable__content {max-height: 200px;max-width: 100%;overflow: auto;}#sk-container-id-3 input.sk-toggleable__control:checked~label.sk-toggleable__label-arrow:before {content: \"▾\";}#sk-container-id-3 div.sk-estimator input.sk-toggleable__control:checked~label.sk-toggleable__label {background-color: #d4ebff;}#sk-container-id-3 div.sk-label input.sk-toggleable__control:checked~label.sk-toggleable__label {background-color: #d4ebff;}#sk-container-id-3 input.sk-hidden--visually {border: 0;clip: rect(1px 1px 1px 1px);clip: rect(1px, 1px, 1px, 1px);height: 1px;margin: -1px;overflow: hidden;padding: 0;position: absolute;width: 1px;}#sk-container-id-3 div.sk-estimator {font-family: monospace;background-color: #f0f8ff;border: 1px dotted black;border-radius: 0.25em;box-sizing: border-box;margin-bottom: 0.5em;}#sk-container-id-3 div.sk-estimator:hover {background-color: #d4ebff;}#sk-container-id-3 div.sk-parallel-item::after {content: \"\";width: 100%;border-bottom: 1px solid gray;flex-grow: 1;}#sk-container-id-3 div.sk-label:hover label.sk-toggleable__label {background-color: #d4ebff;}#sk-container-id-3 div.sk-serial::before {content: \"\";position: absolute;border-left: 1px solid gray;box-sizing: border-box;top: 0;bottom: 0;left: 50%;z-index: 0;}#sk-container-id-3 div.sk-serial {display: flex;flex-direction: column;align-items: center;background-color: white;padding-right: 0.2em;padding-left: 0.2em;position: relative;}#sk-container-id-3 div.sk-item {position: relative;z-index: 1;}#sk-container-id-3 div.sk-parallel {display: flex;align-items: stretch;justify-content: center;background-color: white;position: relative;}#sk-container-id-3 div.sk-item::before, #sk-container-id-3 div.sk-parallel-item::before {content: \"\";position: absolute;border-left: 1px solid gray;box-sizing: border-box;top: 0;bottom: 0;left: 50%;z-index: -1;}#sk-container-id-3 div.sk-parallel-item {display: flex;flex-direction: column;z-index: 1;position: relative;background-color: white;}#sk-container-id-3 div.sk-parallel-item:first-child::after {align-self: flex-end;width: 50%;}#sk-container-id-3 div.sk-parallel-item:last-child::after {align-self: flex-start;width: 50%;}#sk-container-id-3 div.sk-parallel-item:only-child::after {width: 0;}#sk-container-id-3 div.sk-dashed-wrapped {border: 1px dashed gray;margin: 0 0.4em 0.5em 0.4em;box-sizing: border-box;padding-bottom: 0.4em;background-color: white;}#sk-container-id-3 div.sk-label label {font-family: monospace;font-weight: bold;display: inline-block;line-height: 1.2em;}#sk-container-id-3 div.sk-label-container {text-align: center;}#sk-container-id-3 div.sk-container {/* jupyter's `normalize.less` sets `[hidden] { display: none; }` but bootstrap.min.css set `[hidden] { display: none !important; }` so we also need the `!important` here to be able to override the default hidden behavior on the sphinx rendered scikit-learn.org. See: https://github.com/scikit-learn/scikit-learn/issues/21755 */display: inline-block !important;position: relative;}#sk-container-id-3 div.sk-text-repr-fallback {display: none;}</style><div id=\"sk-container-id-3\" class=\"sk-top-container\"><div class=\"sk-text-repr-fallback\"><pre>GridSearchCV(cv=5,\n",
       "             estimator=Pipeline(steps=[(&#x27;sc&#x27;, StandardScaler()),\n",
       "                                       (&#x27;rf&#x27;,\n",
       "                                        RandomForestClassifier(random_state=13))]),\n",
       "             n_jobs=-1,\n",
       "             param_grid={&#x27;rf__max_depth&#x27;: [None, 1, 3, 5, 10],\n",
       "                         &#x27;rf__min_samples_leaf&#x27;: range(1, 6),\n",
       "                         &#x27;rf__n_estimators&#x27;: [100, 200, 250]})</pre><b>In a Jupyter environment, please rerun this cell to show the HTML representation or trust the notebook. <br />On GitHub, the HTML representation is unable to render, please try loading this page with nbviewer.org.</b></div><div class=\"sk-container\" hidden><div class=\"sk-item sk-dashed-wrapped\"><div class=\"sk-label-container\"><div class=\"sk-label sk-toggleable\"><input class=\"sk-toggleable__control sk-hidden--visually\" id=\"sk-estimator-id-7\" type=\"checkbox\" ><label for=\"sk-estimator-id-7\" class=\"sk-toggleable__label sk-toggleable__label-arrow\">GridSearchCV</label><div class=\"sk-toggleable__content\"><pre>GridSearchCV(cv=5,\n",
       "             estimator=Pipeline(steps=[(&#x27;sc&#x27;, StandardScaler()),\n",
       "                                       (&#x27;rf&#x27;,\n",
       "                                        RandomForestClassifier(random_state=13))]),\n",
       "             n_jobs=-1,\n",
       "             param_grid={&#x27;rf__max_depth&#x27;: [None, 1, 3, 5, 10],\n",
       "                         &#x27;rf__min_samples_leaf&#x27;: range(1, 6),\n",
       "                         &#x27;rf__n_estimators&#x27;: [100, 200, 250]})</pre></div></div></div><div class=\"sk-parallel\"><div class=\"sk-parallel-item\"><div class=\"sk-item\"><div class=\"sk-label-container\"><div class=\"sk-label sk-toggleable\"><input class=\"sk-toggleable__control sk-hidden--visually\" id=\"sk-estimator-id-8\" type=\"checkbox\" ><label for=\"sk-estimator-id-8\" class=\"sk-toggleable__label sk-toggleable__label-arrow\">estimator: Pipeline</label><div class=\"sk-toggleable__content\"><pre>Pipeline(steps=[(&#x27;sc&#x27;, StandardScaler()),\n",
       "                (&#x27;rf&#x27;, RandomForestClassifier(random_state=13))])</pre></div></div></div><div class=\"sk-serial\"><div class=\"sk-item\"><div class=\"sk-serial\"><div class=\"sk-item\"><div class=\"sk-estimator sk-toggleable\"><input class=\"sk-toggleable__control sk-hidden--visually\" id=\"sk-estimator-id-9\" type=\"checkbox\" ><label for=\"sk-estimator-id-9\" class=\"sk-toggleable__label sk-toggleable__label-arrow\">StandardScaler</label><div class=\"sk-toggleable__content\"><pre>StandardScaler()</pre></div></div></div><div class=\"sk-item\"><div class=\"sk-estimator sk-toggleable\"><input class=\"sk-toggleable__control sk-hidden--visually\" id=\"sk-estimator-id-10\" type=\"checkbox\" ><label for=\"sk-estimator-id-10\" class=\"sk-toggleable__label sk-toggleable__label-arrow\">RandomForestClassifier</label><div class=\"sk-toggleable__content\"><pre>RandomForestClassifier(random_state=13)</pre></div></div></div></div></div></div></div></div></div></div></div></div>"
      ],
      "text/plain": [
       "GridSearchCV(cv=5,\n",
       "             estimator=Pipeline(steps=[('sc', StandardScaler()),\n",
       "                                       ('rf',\n",
       "                                        RandomForestClassifier(random_state=13))]),\n",
       "             n_jobs=-1,\n",
       "             param_grid={'rf__max_depth': [None, 1, 3, 5, 10],\n",
       "                         'rf__min_samples_leaf': range(1, 6),\n",
       "                         'rf__n_estimators': [100, 200, 250]})"
      ]
     },
     "execution_count": 17,
     "metadata": {},
     "output_type": "execute_result"
    }
   ],
   "source": [
    "pipe2_params= {\n",
    "    \"rf__n_estimators\": [100, 200, 250],\n",
    "    \"rf__max_depth\": [None, 1, 3, 5, 10],\n",
    "    \"rf__min_samples_leaf\": range(1, 6)\n",
    "}\n",
    "\n",
    "gs2= GridSearchCV(pipe2, param_grid= pipe2_params, cv= 5, n_jobs= -1)\n",
    "gs2.fit(X_train, y_train)"
   ]
  },
  {
   "cell_type": "code",
   "execution_count": 18,
   "id": "3b01e940-6110-4bdd-b4d7-0bec693d2f25",
   "metadata": {},
   "outputs": [
    {
     "data": {
      "text/plain": [
       "1.0"
      ]
     },
     "execution_count": 18,
     "metadata": {},
     "output_type": "execute_result"
    }
   ],
   "source": [
    "gs2.score(X_train, y_train)"
   ]
  },
  {
   "cell_type": "code",
   "execution_count": 19,
   "id": "0d87c468-44c9-4305-90bc-48dd7b7b614b",
   "metadata": {},
   "outputs": [
    {
     "data": {
      "text/plain": [
       "0.955989110707804"
      ]
     },
     "execution_count": 19,
     "metadata": {},
     "output_type": "execute_result"
    }
   ],
   "source": [
    "gs2.score(X_test, y_test)"
   ]
  },
  {
   "cell_type": "code",
   "execution_count": 20,
   "id": "a219d887-0b93-4713-b3da-4e1447c99432",
   "metadata": {},
   "outputs": [
    {
     "data": {
      "text/plain": [
       "{'rf__max_depth': None, 'rf__min_samples_leaf': 1, 'rf__n_estimators': 250}"
      ]
     },
     "execution_count": 20,
     "metadata": {},
     "output_type": "execute_result"
    }
   ],
   "source": [
    "gs2.best_params_"
   ]
  },
  {
   "cell_type": "code",
   "execution_count": 21,
   "id": "b0fdabe4-edef-4184-88a6-32b5b760dcff",
   "metadata": {},
   "outputs": [],
   "source": [
    "gs2_preds= gs2.predict(X_test)"
   ]
  },
  {
   "cell_type": "code",
   "execution_count": 22,
   "id": "2605f726-77bd-4980-8fea-149f499bd937",
   "metadata": {},
   "outputs": [
    {
     "data": {
      "text/plain": [
       "{'model': 'Random Forest GS',\n",
       " 'accuracy': 0.955989110707804,\n",
       " 'precision': 0.956329173620452,\n",
       " 'recall': 0.955989110707804,\n",
       " 'f1_score': 0.9559452981458785}"
      ]
     },
     "execution_count": 22,
     "metadata": {},
     "output_type": "execute_result"
    }
   ],
   "source": [
    "model_metrics(\"Random Forest GS\", y_test, gs2_preds)"
   ]
  },
  {
   "cell_type": "code",
   "execution_count": 23,
   "id": "d2d69533-39aa-4252-bc30-c5dd0a7b500f",
   "metadata": {},
   "outputs": [],
   "source": [
    "model_metrics_list.append(model_metrics(\"Random Forest GS\", y_test, gs2_preds))"
   ]
  },
  {
   "cell_type": "markdown",
   "id": "4ed6b767-41c0-4c60-8d95-8ba81827e28a",
   "metadata": {},
   "source": [
    "This model is not better than our logistic regression model, even after gridsearching."
   ]
  },
  {
   "cell_type": "markdown",
   "id": "e2144ec4-ca14-49ed-a0f3-f46a10507ca2",
   "metadata": {},
   "source": [
    "**Gradient Boosting**"
   ]
  },
  {
   "cell_type": "code",
   "execution_count": 24,
   "id": "19025d31-f78f-47bc-8488-5ebf43de324c",
   "metadata": {},
   "outputs": [
    {
     "data": {
      "text/html": [
       "<style>#sk-container-id-4 {color: black;background-color: white;}#sk-container-id-4 pre{padding: 0;}#sk-container-id-4 div.sk-toggleable {background-color: white;}#sk-container-id-4 label.sk-toggleable__label {cursor: pointer;display: block;width: 100%;margin-bottom: 0;padding: 0.3em;box-sizing: border-box;text-align: center;}#sk-container-id-4 label.sk-toggleable__label-arrow:before {content: \"▸\";float: left;margin-right: 0.25em;color: #696969;}#sk-container-id-4 label.sk-toggleable__label-arrow:hover:before {color: black;}#sk-container-id-4 div.sk-estimator:hover label.sk-toggleable__label-arrow:before {color: black;}#sk-container-id-4 div.sk-toggleable__content {max-height: 0;max-width: 0;overflow: hidden;text-align: left;background-color: #f0f8ff;}#sk-container-id-4 div.sk-toggleable__content pre {margin: 0.2em;color: black;border-radius: 0.25em;background-color: #f0f8ff;}#sk-container-id-4 input.sk-toggleable__control:checked~div.sk-toggleable__content {max-height: 200px;max-width: 100%;overflow: auto;}#sk-container-id-4 input.sk-toggleable__control:checked~label.sk-toggleable__label-arrow:before {content: \"▾\";}#sk-container-id-4 div.sk-estimator input.sk-toggleable__control:checked~label.sk-toggleable__label {background-color: #d4ebff;}#sk-container-id-4 div.sk-label input.sk-toggleable__control:checked~label.sk-toggleable__label {background-color: #d4ebff;}#sk-container-id-4 input.sk-hidden--visually {border: 0;clip: rect(1px 1px 1px 1px);clip: rect(1px, 1px, 1px, 1px);height: 1px;margin: -1px;overflow: hidden;padding: 0;position: absolute;width: 1px;}#sk-container-id-4 div.sk-estimator {font-family: monospace;background-color: #f0f8ff;border: 1px dotted black;border-radius: 0.25em;box-sizing: border-box;margin-bottom: 0.5em;}#sk-container-id-4 div.sk-estimator:hover {background-color: #d4ebff;}#sk-container-id-4 div.sk-parallel-item::after {content: \"\";width: 100%;border-bottom: 1px solid gray;flex-grow: 1;}#sk-container-id-4 div.sk-label:hover label.sk-toggleable__label {background-color: #d4ebff;}#sk-container-id-4 div.sk-serial::before {content: \"\";position: absolute;border-left: 1px solid gray;box-sizing: border-box;top: 0;bottom: 0;left: 50%;z-index: 0;}#sk-container-id-4 div.sk-serial {display: flex;flex-direction: column;align-items: center;background-color: white;padding-right: 0.2em;padding-left: 0.2em;position: relative;}#sk-container-id-4 div.sk-item {position: relative;z-index: 1;}#sk-container-id-4 div.sk-parallel {display: flex;align-items: stretch;justify-content: center;background-color: white;position: relative;}#sk-container-id-4 div.sk-item::before, #sk-container-id-4 div.sk-parallel-item::before {content: \"\";position: absolute;border-left: 1px solid gray;box-sizing: border-box;top: 0;bottom: 0;left: 50%;z-index: -1;}#sk-container-id-4 div.sk-parallel-item {display: flex;flex-direction: column;z-index: 1;position: relative;background-color: white;}#sk-container-id-4 div.sk-parallel-item:first-child::after {align-self: flex-end;width: 50%;}#sk-container-id-4 div.sk-parallel-item:last-child::after {align-self: flex-start;width: 50%;}#sk-container-id-4 div.sk-parallel-item:only-child::after {width: 0;}#sk-container-id-4 div.sk-dashed-wrapped {border: 1px dashed gray;margin: 0 0.4em 0.5em 0.4em;box-sizing: border-box;padding-bottom: 0.4em;background-color: white;}#sk-container-id-4 div.sk-label label {font-family: monospace;font-weight: bold;display: inline-block;line-height: 1.2em;}#sk-container-id-4 div.sk-label-container {text-align: center;}#sk-container-id-4 div.sk-container {/* jupyter's `normalize.less` sets `[hidden] { display: none; }` but bootstrap.min.css set `[hidden] { display: none !important; }` so we also need the `!important` here to be able to override the default hidden behavior on the sphinx rendered scikit-learn.org. See: https://github.com/scikit-learn/scikit-learn/issues/21755 */display: inline-block !important;position: relative;}#sk-container-id-4 div.sk-text-repr-fallback {display: none;}</style><div id=\"sk-container-id-4\" class=\"sk-top-container\"><div class=\"sk-text-repr-fallback\"><pre>Pipeline(steps=[(&#x27;sc&#x27;, StandardScaler()),\n",
       "                (&#x27;gb&#x27;, GradientBoostingClassifier(random_state=13))])</pre><b>In a Jupyter environment, please rerun this cell to show the HTML representation or trust the notebook. <br />On GitHub, the HTML representation is unable to render, please try loading this page with nbviewer.org.</b></div><div class=\"sk-container\" hidden><div class=\"sk-item sk-dashed-wrapped\"><div class=\"sk-label-container\"><div class=\"sk-label sk-toggleable\"><input class=\"sk-toggleable__control sk-hidden--visually\" id=\"sk-estimator-id-11\" type=\"checkbox\" ><label for=\"sk-estimator-id-11\" class=\"sk-toggleable__label sk-toggleable__label-arrow\">Pipeline</label><div class=\"sk-toggleable__content\"><pre>Pipeline(steps=[(&#x27;sc&#x27;, StandardScaler()),\n",
       "                (&#x27;gb&#x27;, GradientBoostingClassifier(random_state=13))])</pre></div></div></div><div class=\"sk-serial\"><div class=\"sk-item\"><div class=\"sk-estimator sk-toggleable\"><input class=\"sk-toggleable__control sk-hidden--visually\" id=\"sk-estimator-id-12\" type=\"checkbox\" ><label for=\"sk-estimator-id-12\" class=\"sk-toggleable__label sk-toggleable__label-arrow\">StandardScaler</label><div class=\"sk-toggleable__content\"><pre>StandardScaler()</pre></div></div></div><div class=\"sk-item\"><div class=\"sk-estimator sk-toggleable\"><input class=\"sk-toggleable__control sk-hidden--visually\" id=\"sk-estimator-id-13\" type=\"checkbox\" ><label for=\"sk-estimator-id-13\" class=\"sk-toggleable__label sk-toggleable__label-arrow\">GradientBoostingClassifier</label><div class=\"sk-toggleable__content\"><pre>GradientBoostingClassifier(random_state=13)</pre></div></div></div></div></div></div></div>"
      ],
      "text/plain": [
       "Pipeline(steps=[('sc', StandardScaler()),\n",
       "                ('gb', GradientBoostingClassifier(random_state=13))])"
      ]
     },
     "execution_count": 24,
     "metadata": {},
     "output_type": "execute_result"
    }
   ],
   "source": [
    "pipe3 = Pipeline([\n",
    "    (\"sc\", StandardScaler()),\n",
    "    (\"gb\", GradientBoostingClassifier(random_state= 13))\n",
    "])\n",
    "pipe3.fit(X_train, y_train)"
   ]
  },
  {
   "cell_type": "code",
   "execution_count": 25,
   "id": "c8435fbd-7f00-4ec5-8d8b-cda2b2bd6375",
   "metadata": {},
   "outputs": [],
   "source": [
    "gb_preds = pipe3.predict(X_test)"
   ]
  },
  {
   "cell_type": "code",
   "execution_count": 26,
   "id": "54b20706-846c-4888-9de6-7ddb4a53a77e",
   "metadata": {},
   "outputs": [
    {
     "data": {
      "text/plain": [
       "0.999697519661222"
      ]
     },
     "execution_count": 26,
     "metadata": {},
     "output_type": "execute_result"
    }
   ],
   "source": [
    "pipe3.score(X_train, y_train)"
   ]
  },
  {
   "cell_type": "code",
   "execution_count": 27,
   "id": "d99bd259-4a43-4f1b-a63c-61fbf0d931cb",
   "metadata": {},
   "outputs": [
    {
     "data": {
      "text/plain": [
       "0.9637023593466425"
      ]
     },
     "execution_count": 27,
     "metadata": {},
     "output_type": "execute_result"
    }
   ],
   "source": [
    "pipe3.score(X_test, y_test)"
   ]
  },
  {
   "cell_type": "markdown",
   "id": "bca30dff-a802-44e2-b7cb-eb26df4e302a",
   "metadata": {},
   "source": [
    "There is some overfitting happening and these scores are not better than the logistic regression model. We can try gridsearching."
   ]
  },
  {
   "cell_type": "code",
   "execution_count": 28,
   "id": "e53095f6-5fef-4f93-bb10-7b83d06d4404",
   "metadata": {},
   "outputs": [
    {
     "data": {
      "text/html": [
       "<style>#sk-container-id-5 {color: black;background-color: white;}#sk-container-id-5 pre{padding: 0;}#sk-container-id-5 div.sk-toggleable {background-color: white;}#sk-container-id-5 label.sk-toggleable__label {cursor: pointer;display: block;width: 100%;margin-bottom: 0;padding: 0.3em;box-sizing: border-box;text-align: center;}#sk-container-id-5 label.sk-toggleable__label-arrow:before {content: \"▸\";float: left;margin-right: 0.25em;color: #696969;}#sk-container-id-5 label.sk-toggleable__label-arrow:hover:before {color: black;}#sk-container-id-5 div.sk-estimator:hover label.sk-toggleable__label-arrow:before {color: black;}#sk-container-id-5 div.sk-toggleable__content {max-height: 0;max-width: 0;overflow: hidden;text-align: left;background-color: #f0f8ff;}#sk-container-id-5 div.sk-toggleable__content pre {margin: 0.2em;color: black;border-radius: 0.25em;background-color: #f0f8ff;}#sk-container-id-5 input.sk-toggleable__control:checked~div.sk-toggleable__content {max-height: 200px;max-width: 100%;overflow: auto;}#sk-container-id-5 input.sk-toggleable__control:checked~label.sk-toggleable__label-arrow:before {content: \"▾\";}#sk-container-id-5 div.sk-estimator input.sk-toggleable__control:checked~label.sk-toggleable__label {background-color: #d4ebff;}#sk-container-id-5 div.sk-label input.sk-toggleable__control:checked~label.sk-toggleable__label {background-color: #d4ebff;}#sk-container-id-5 input.sk-hidden--visually {border: 0;clip: rect(1px 1px 1px 1px);clip: rect(1px, 1px, 1px, 1px);height: 1px;margin: -1px;overflow: hidden;padding: 0;position: absolute;width: 1px;}#sk-container-id-5 div.sk-estimator {font-family: monospace;background-color: #f0f8ff;border: 1px dotted black;border-radius: 0.25em;box-sizing: border-box;margin-bottom: 0.5em;}#sk-container-id-5 div.sk-estimator:hover {background-color: #d4ebff;}#sk-container-id-5 div.sk-parallel-item::after {content: \"\";width: 100%;border-bottom: 1px solid gray;flex-grow: 1;}#sk-container-id-5 div.sk-label:hover label.sk-toggleable__label {background-color: #d4ebff;}#sk-container-id-5 div.sk-serial::before {content: \"\";position: absolute;border-left: 1px solid gray;box-sizing: border-box;top: 0;bottom: 0;left: 50%;z-index: 0;}#sk-container-id-5 div.sk-serial {display: flex;flex-direction: column;align-items: center;background-color: white;padding-right: 0.2em;padding-left: 0.2em;position: relative;}#sk-container-id-5 div.sk-item {position: relative;z-index: 1;}#sk-container-id-5 div.sk-parallel {display: flex;align-items: stretch;justify-content: center;background-color: white;position: relative;}#sk-container-id-5 div.sk-item::before, #sk-container-id-5 div.sk-parallel-item::before {content: \"\";position: absolute;border-left: 1px solid gray;box-sizing: border-box;top: 0;bottom: 0;left: 50%;z-index: -1;}#sk-container-id-5 div.sk-parallel-item {display: flex;flex-direction: column;z-index: 1;position: relative;background-color: white;}#sk-container-id-5 div.sk-parallel-item:first-child::after {align-self: flex-end;width: 50%;}#sk-container-id-5 div.sk-parallel-item:last-child::after {align-self: flex-start;width: 50%;}#sk-container-id-5 div.sk-parallel-item:only-child::after {width: 0;}#sk-container-id-5 div.sk-dashed-wrapped {border: 1px dashed gray;margin: 0 0.4em 0.5em 0.4em;box-sizing: border-box;padding-bottom: 0.4em;background-color: white;}#sk-container-id-5 div.sk-label label {font-family: monospace;font-weight: bold;display: inline-block;line-height: 1.2em;}#sk-container-id-5 div.sk-label-container {text-align: center;}#sk-container-id-5 div.sk-container {/* jupyter's `normalize.less` sets `[hidden] { display: none; }` but bootstrap.min.css set `[hidden] { display: none !important; }` so we also need the `!important` here to be able to override the default hidden behavior on the sphinx rendered scikit-learn.org. See: https://github.com/scikit-learn/scikit-learn/issues/21755 */display: inline-block !important;position: relative;}#sk-container-id-5 div.sk-text-repr-fallback {display: none;}</style><div id=\"sk-container-id-5\" class=\"sk-top-container\"><div class=\"sk-text-repr-fallback\"><pre>GridSearchCV(cv=3,\n",
       "             estimator=Pipeline(steps=[(&#x27;sc&#x27;, StandardScaler()),\n",
       "                                       (&#x27;gb&#x27;,\n",
       "                                        GradientBoostingClassifier(random_state=13))]),\n",
       "             n_jobs=-1,\n",
       "             param_grid={&#x27;gb__learning_rate&#x27;: [0.5, 1.0],\n",
       "                         &#x27;gb__max_depth&#x27;: [2, 3, 4],\n",
       "                         &#x27;gb__n_estimators&#x27;: [100, 200, 250]})</pre><b>In a Jupyter environment, please rerun this cell to show the HTML representation or trust the notebook. <br />On GitHub, the HTML representation is unable to render, please try loading this page with nbviewer.org.</b></div><div class=\"sk-container\" hidden><div class=\"sk-item sk-dashed-wrapped\"><div class=\"sk-label-container\"><div class=\"sk-label sk-toggleable\"><input class=\"sk-toggleable__control sk-hidden--visually\" id=\"sk-estimator-id-14\" type=\"checkbox\" ><label for=\"sk-estimator-id-14\" class=\"sk-toggleable__label sk-toggleable__label-arrow\">GridSearchCV</label><div class=\"sk-toggleable__content\"><pre>GridSearchCV(cv=3,\n",
       "             estimator=Pipeline(steps=[(&#x27;sc&#x27;, StandardScaler()),\n",
       "                                       (&#x27;gb&#x27;,\n",
       "                                        GradientBoostingClassifier(random_state=13))]),\n",
       "             n_jobs=-1,\n",
       "             param_grid={&#x27;gb__learning_rate&#x27;: [0.5, 1.0],\n",
       "                         &#x27;gb__max_depth&#x27;: [2, 3, 4],\n",
       "                         &#x27;gb__n_estimators&#x27;: [100, 200, 250]})</pre></div></div></div><div class=\"sk-parallel\"><div class=\"sk-parallel-item\"><div class=\"sk-item\"><div class=\"sk-label-container\"><div class=\"sk-label sk-toggleable\"><input class=\"sk-toggleable__control sk-hidden--visually\" id=\"sk-estimator-id-15\" type=\"checkbox\" ><label for=\"sk-estimator-id-15\" class=\"sk-toggleable__label sk-toggleable__label-arrow\">estimator: Pipeline</label><div class=\"sk-toggleable__content\"><pre>Pipeline(steps=[(&#x27;sc&#x27;, StandardScaler()),\n",
       "                (&#x27;gb&#x27;, GradientBoostingClassifier(random_state=13))])</pre></div></div></div><div class=\"sk-serial\"><div class=\"sk-item\"><div class=\"sk-serial\"><div class=\"sk-item\"><div class=\"sk-estimator sk-toggleable\"><input class=\"sk-toggleable__control sk-hidden--visually\" id=\"sk-estimator-id-16\" type=\"checkbox\" ><label for=\"sk-estimator-id-16\" class=\"sk-toggleable__label sk-toggleable__label-arrow\">StandardScaler</label><div class=\"sk-toggleable__content\"><pre>StandardScaler()</pre></div></div></div><div class=\"sk-item\"><div class=\"sk-estimator sk-toggleable\"><input class=\"sk-toggleable__control sk-hidden--visually\" id=\"sk-estimator-id-17\" type=\"checkbox\" ><label for=\"sk-estimator-id-17\" class=\"sk-toggleable__label sk-toggleable__label-arrow\">GradientBoostingClassifier</label><div class=\"sk-toggleable__content\"><pre>GradientBoostingClassifier(random_state=13)</pre></div></div></div></div></div></div></div></div></div></div></div></div>"
      ],
      "text/plain": [
       "GridSearchCV(cv=3,\n",
       "             estimator=Pipeline(steps=[('sc', StandardScaler()),\n",
       "                                       ('gb',\n",
       "                                        GradientBoostingClassifier(random_state=13))]),\n",
       "             n_jobs=-1,\n",
       "             param_grid={'gb__learning_rate': [0.5, 1.0],\n",
       "                         'gb__max_depth': [2, 3, 4],\n",
       "                         'gb__n_estimators': [100, 200, 250]})"
      ]
     },
     "execution_count": 28,
     "metadata": {},
     "output_type": "execute_result"
    }
   ],
   "source": [
    "pipe3_params= {\n",
    "    \"gb__n_estimators\": [100, 200, 250],\n",
    "    \"gb__max_depth\": [2, 3, 4],\n",
    "    \"gb__learning_rate\": [0.5, 1.0]\n",
    "}\n",
    "\n",
    "gs3= GridSearchCV(pipe3, param_grid= pipe3_params, cv= 3, n_jobs= -1)\n",
    "gs3.fit(X_train, y_train)"
   ]
  },
  {
   "cell_type": "code",
   "execution_count": 29,
   "id": "65d16d8f-ea23-46f6-bc3e-61f23fec5aae",
   "metadata": {},
   "outputs": [
    {
     "data": {
      "text/plain": [
       "1.0"
      ]
     },
     "execution_count": 29,
     "metadata": {},
     "output_type": "execute_result"
    }
   ],
   "source": [
    "gs3.score(X_train, y_train)"
   ]
  },
  {
   "cell_type": "code",
   "execution_count": 30,
   "id": "67254d35-c9f2-47a8-aab8-75d886ac9d70",
   "metadata": {},
   "outputs": [
    {
     "data": {
      "text/plain": [
       "0.9627949183303085"
      ]
     },
     "execution_count": 30,
     "metadata": {},
     "output_type": "execute_result"
    }
   ],
   "source": [
    "gs3.score(X_test, y_test)"
   ]
  },
  {
   "cell_type": "code",
   "execution_count": 31,
   "id": "9f15da9d-9fdf-407e-aa9c-c7b2cf8bec3e",
   "metadata": {},
   "outputs": [
    {
     "data": {
      "text/plain": [
       "{'gb__learning_rate': 0.5, 'gb__max_depth': 2, 'gb__n_estimators': 200}"
      ]
     },
     "execution_count": 31,
     "metadata": {},
     "output_type": "execute_result"
    }
   ],
   "source": [
    "gs3.best_params_"
   ]
  },
  {
   "cell_type": "code",
   "execution_count": 32,
   "id": "4fb94998-02ae-4a4f-bc41-704528a406b8",
   "metadata": {},
   "outputs": [],
   "source": [
    "gs3_preds= gs3.predict(X_test)"
   ]
  },
  {
   "cell_type": "code",
   "execution_count": 33,
   "id": "72e05935-46c9-422e-87cb-c183ee2b70f3",
   "metadata": {},
   "outputs": [
    {
     "data": {
      "text/plain": [
       "{'model': 'Gradient Boosting GS',\n",
       " 'accuracy': 0.9627949183303085,\n",
       " 'precision': 0.9631014896484845,\n",
       " 'recall': 0.9627949183303085,\n",
       " 'f1_score': 0.9628372350423716}"
      ]
     },
     "execution_count": 33,
     "metadata": {},
     "output_type": "execute_result"
    }
   ],
   "source": [
    "model_metrics(\"Gradient Boosting GS\", y_test, gs3_preds)"
   ]
  },
  {
   "cell_type": "code",
   "execution_count": 34,
   "id": "692080bb-c5e5-44fd-9de5-671f14c70577",
   "metadata": {},
   "outputs": [],
   "source": [
    "model_metrics_list.append(model_metrics(\"Gradient Boosting GS\", y_test, gs3_preds))"
   ]
  },
  {
   "cell_type": "markdown",
   "id": "1dc1db26-cf72-42a4-bc7b-9286c0870bcd",
   "metadata": {},
   "source": [
    "The grisearching made it even more overfit and the test score is a little worse."
   ]
  },
  {
   "cell_type": "markdown",
   "id": "c8682dbf-64d1-4f34-a427-40c4953f4f28",
   "metadata": {},
   "source": [
    "**Stacking**\n",
    "\n",
    "I will be creating a stacked model using the three estimators above and the parameters that gave the best results."
   ]
  },
  {
   "cell_type": "code",
   "execution_count": 35,
   "id": "4ec53c61-bb88-4911-b596-34bf0136ac58",
   "metadata": {},
   "outputs": [],
   "source": [
    "stack_estimators = [\n",
    "    ('logreg', LogisticRegression(max_iter= 1000, random_state= 13)),\n",
    "    ('rf', RandomForestClassifier(random_state= 13, n_estimators= 250)),\n",
    "    ('gb', GradientBoostingClassifier(random_state= 13))\n",
    "]"
   ]
  },
  {
   "cell_type": "code",
   "execution_count": 36,
   "id": "42245762-67ce-4e0b-ae59-f9c9ca9ea10f",
   "metadata": {},
   "outputs": [
    {
     "data": {
      "text/html": [
       "<style>#sk-container-id-6 {color: black;background-color: white;}#sk-container-id-6 pre{padding: 0;}#sk-container-id-6 div.sk-toggleable {background-color: white;}#sk-container-id-6 label.sk-toggleable__label {cursor: pointer;display: block;width: 100%;margin-bottom: 0;padding: 0.3em;box-sizing: border-box;text-align: center;}#sk-container-id-6 label.sk-toggleable__label-arrow:before {content: \"▸\";float: left;margin-right: 0.25em;color: #696969;}#sk-container-id-6 label.sk-toggleable__label-arrow:hover:before {color: black;}#sk-container-id-6 div.sk-estimator:hover label.sk-toggleable__label-arrow:before {color: black;}#sk-container-id-6 div.sk-toggleable__content {max-height: 0;max-width: 0;overflow: hidden;text-align: left;background-color: #f0f8ff;}#sk-container-id-6 div.sk-toggleable__content pre {margin: 0.2em;color: black;border-radius: 0.25em;background-color: #f0f8ff;}#sk-container-id-6 input.sk-toggleable__control:checked~div.sk-toggleable__content {max-height: 200px;max-width: 100%;overflow: auto;}#sk-container-id-6 input.sk-toggleable__control:checked~label.sk-toggleable__label-arrow:before {content: \"▾\";}#sk-container-id-6 div.sk-estimator input.sk-toggleable__control:checked~label.sk-toggleable__label {background-color: #d4ebff;}#sk-container-id-6 div.sk-label input.sk-toggleable__control:checked~label.sk-toggleable__label {background-color: #d4ebff;}#sk-container-id-6 input.sk-hidden--visually {border: 0;clip: rect(1px 1px 1px 1px);clip: rect(1px, 1px, 1px, 1px);height: 1px;margin: -1px;overflow: hidden;padding: 0;position: absolute;width: 1px;}#sk-container-id-6 div.sk-estimator {font-family: monospace;background-color: #f0f8ff;border: 1px dotted black;border-radius: 0.25em;box-sizing: border-box;margin-bottom: 0.5em;}#sk-container-id-6 div.sk-estimator:hover {background-color: #d4ebff;}#sk-container-id-6 div.sk-parallel-item::after {content: \"\";width: 100%;border-bottom: 1px solid gray;flex-grow: 1;}#sk-container-id-6 div.sk-label:hover label.sk-toggleable__label {background-color: #d4ebff;}#sk-container-id-6 div.sk-serial::before {content: \"\";position: absolute;border-left: 1px solid gray;box-sizing: border-box;top: 0;bottom: 0;left: 50%;z-index: 0;}#sk-container-id-6 div.sk-serial {display: flex;flex-direction: column;align-items: center;background-color: white;padding-right: 0.2em;padding-left: 0.2em;position: relative;}#sk-container-id-6 div.sk-item {position: relative;z-index: 1;}#sk-container-id-6 div.sk-parallel {display: flex;align-items: stretch;justify-content: center;background-color: white;position: relative;}#sk-container-id-6 div.sk-item::before, #sk-container-id-6 div.sk-parallel-item::before {content: \"\";position: absolute;border-left: 1px solid gray;box-sizing: border-box;top: 0;bottom: 0;left: 50%;z-index: -1;}#sk-container-id-6 div.sk-parallel-item {display: flex;flex-direction: column;z-index: 1;position: relative;background-color: white;}#sk-container-id-6 div.sk-parallel-item:first-child::after {align-self: flex-end;width: 50%;}#sk-container-id-6 div.sk-parallel-item:last-child::after {align-self: flex-start;width: 50%;}#sk-container-id-6 div.sk-parallel-item:only-child::after {width: 0;}#sk-container-id-6 div.sk-dashed-wrapped {border: 1px dashed gray;margin: 0 0.4em 0.5em 0.4em;box-sizing: border-box;padding-bottom: 0.4em;background-color: white;}#sk-container-id-6 div.sk-label label {font-family: monospace;font-weight: bold;display: inline-block;line-height: 1.2em;}#sk-container-id-6 div.sk-label-container {text-align: center;}#sk-container-id-6 div.sk-container {/* jupyter's `normalize.less` sets `[hidden] { display: none; }` but bootstrap.min.css set `[hidden] { display: none !important; }` so we also need the `!important` here to be able to override the default hidden behavior on the sphinx rendered scikit-learn.org. See: https://github.com/scikit-learn/scikit-learn/issues/21755 */display: inline-block !important;position: relative;}#sk-container-id-6 div.sk-text-repr-fallback {display: none;}</style><div id=\"sk-container-id-6\" class=\"sk-top-container\"><div class=\"sk-text-repr-fallback\"><pre>Pipeline(steps=[(&#x27;sc&#x27;, StandardScaler()),\n",
       "                (&#x27;stack&#x27;,\n",
       "                 StackingClassifier(estimators=[(&#x27;logreg&#x27;,\n",
       "                                                 LogisticRegression(max_iter=1000,\n",
       "                                                                    random_state=13)),\n",
       "                                                (&#x27;rf&#x27;,\n",
       "                                                 RandomForestClassifier(n_estimators=250,\n",
       "                                                                        random_state=13)),\n",
       "                                                (&#x27;gb&#x27;,\n",
       "                                                 GradientBoostingClassifier(random_state=13))],\n",
       "                                    final_estimator=LogisticRegression(max_iter=1000,\n",
       "                                                                       random_state=13)))])</pre><b>In a Jupyter environment, please rerun this cell to show the HTML representation or trust the notebook. <br />On GitHub, the HTML representation is unable to render, please try loading this page with nbviewer.org.</b></div><div class=\"sk-container\" hidden><div class=\"sk-item sk-dashed-wrapped\"><div class=\"sk-label-container\"><div class=\"sk-label sk-toggleable\"><input class=\"sk-toggleable__control sk-hidden--visually\" id=\"sk-estimator-id-18\" type=\"checkbox\" ><label for=\"sk-estimator-id-18\" class=\"sk-toggleable__label sk-toggleable__label-arrow\">Pipeline</label><div class=\"sk-toggleable__content\"><pre>Pipeline(steps=[(&#x27;sc&#x27;, StandardScaler()),\n",
       "                (&#x27;stack&#x27;,\n",
       "                 StackingClassifier(estimators=[(&#x27;logreg&#x27;,\n",
       "                                                 LogisticRegression(max_iter=1000,\n",
       "                                                                    random_state=13)),\n",
       "                                                (&#x27;rf&#x27;,\n",
       "                                                 RandomForestClassifier(n_estimators=250,\n",
       "                                                                        random_state=13)),\n",
       "                                                (&#x27;gb&#x27;,\n",
       "                                                 GradientBoostingClassifier(random_state=13))],\n",
       "                                    final_estimator=LogisticRegression(max_iter=1000,\n",
       "                                                                       random_state=13)))])</pre></div></div></div><div class=\"sk-serial\"><div class=\"sk-item\"><div class=\"sk-estimator sk-toggleable\"><input class=\"sk-toggleable__control sk-hidden--visually\" id=\"sk-estimator-id-19\" type=\"checkbox\" ><label for=\"sk-estimator-id-19\" class=\"sk-toggleable__label sk-toggleable__label-arrow\">StandardScaler</label><div class=\"sk-toggleable__content\"><pre>StandardScaler()</pre></div></div></div><div class=\"sk-item\"><div class=\"sk-label-container\"><div class=\"sk-label sk-toggleable\"><input class=\"sk-toggleable__control sk-hidden--visually\" id=\"sk-estimator-id-20\" type=\"checkbox\" ><label for=\"sk-estimator-id-20\" class=\"sk-toggleable__label sk-toggleable__label-arrow\">stack: StackingClassifier</label><div class=\"sk-toggleable__content\"><pre>StackingClassifier(estimators=[(&#x27;logreg&#x27;,\n",
       "                                LogisticRegression(max_iter=1000,\n",
       "                                                   random_state=13)),\n",
       "                               (&#x27;rf&#x27;,\n",
       "                                RandomForestClassifier(n_estimators=250,\n",
       "                                                       random_state=13)),\n",
       "                               (&#x27;gb&#x27;,\n",
       "                                GradientBoostingClassifier(random_state=13))],\n",
       "                   final_estimator=LogisticRegression(max_iter=1000,\n",
       "                                                      random_state=13))</pre></div></div></div><div class=\"sk-serial\"><div class=\"sk-item\"><div class=\"sk-parallel\"><div class=\"sk-parallel-item\"><div class=\"sk-item\"><div class=\"sk-label-container\"><div class=\"sk-label sk-toggleable\"><label>logreg</label></div></div><div class=\"sk-serial\"><div class=\"sk-item\"><div class=\"sk-estimator sk-toggleable\"><input class=\"sk-toggleable__control sk-hidden--visually\" id=\"sk-estimator-id-21\" type=\"checkbox\" ><label for=\"sk-estimator-id-21\" class=\"sk-toggleable__label sk-toggleable__label-arrow\">LogisticRegression</label><div class=\"sk-toggleable__content\"><pre>LogisticRegression(max_iter=1000, random_state=13)</pre></div></div></div></div></div></div><div class=\"sk-parallel-item\"><div class=\"sk-item\"><div class=\"sk-label-container\"><div class=\"sk-label sk-toggleable\"><label>rf</label></div></div><div class=\"sk-serial\"><div class=\"sk-item\"><div class=\"sk-estimator sk-toggleable\"><input class=\"sk-toggleable__control sk-hidden--visually\" id=\"sk-estimator-id-22\" type=\"checkbox\" ><label for=\"sk-estimator-id-22\" class=\"sk-toggleable__label sk-toggleable__label-arrow\">RandomForestClassifier</label><div class=\"sk-toggleable__content\"><pre>RandomForestClassifier(n_estimators=250, random_state=13)</pre></div></div></div></div></div></div><div class=\"sk-parallel-item\"><div class=\"sk-item\"><div class=\"sk-label-container\"><div class=\"sk-label sk-toggleable\"><label>gb</label></div></div><div class=\"sk-serial\"><div class=\"sk-item\"><div class=\"sk-estimator sk-toggleable\"><input class=\"sk-toggleable__control sk-hidden--visually\" id=\"sk-estimator-id-23\" type=\"checkbox\" ><label for=\"sk-estimator-id-23\" class=\"sk-toggleable__label sk-toggleable__label-arrow\">GradientBoostingClassifier</label><div class=\"sk-toggleable__content\"><pre>GradientBoostingClassifier(random_state=13)</pre></div></div></div></div></div></div></div></div><div class=\"sk-item\"><div class=\"sk-parallel\"><div class=\"sk-parallel-item\"><div class=\"sk-item\"><div class=\"sk-label-container\"><div class=\"sk-label sk-toggleable\"><label>final_estimator</label></div></div><div class=\"sk-serial\"><div class=\"sk-item\"><div class=\"sk-estimator sk-toggleable\"><input class=\"sk-toggleable__control sk-hidden--visually\" id=\"sk-estimator-id-24\" type=\"checkbox\" ><label for=\"sk-estimator-id-24\" class=\"sk-toggleable__label sk-toggleable__label-arrow\">LogisticRegression</label><div class=\"sk-toggleable__content\"><pre>LogisticRegression(max_iter=1000, random_state=13)</pre></div></div></div></div></div></div></div></div></div></div></div></div></div></div>"
      ],
      "text/plain": [
       "Pipeline(steps=[('sc', StandardScaler()),\n",
       "                ('stack',\n",
       "                 StackingClassifier(estimators=[('logreg',\n",
       "                                                 LogisticRegression(max_iter=1000,\n",
       "                                                                    random_state=13)),\n",
       "                                                ('rf',\n",
       "                                                 RandomForestClassifier(n_estimators=250,\n",
       "                                                                        random_state=13)),\n",
       "                                                ('gb',\n",
       "                                                 GradientBoostingClassifier(random_state=13))],\n",
       "                                    final_estimator=LogisticRegression(max_iter=1000,\n",
       "                                                                       random_state=13)))])"
      ]
     },
     "execution_count": 36,
     "metadata": {},
     "output_type": "execute_result"
    }
   ],
   "source": [
    "pipe4 = Pipeline([\n",
    "    (\"sc\", StandardScaler()),\n",
    "    (\"stack\",  StackingClassifier(estimators= stack_estimators, final_estimator= LogisticRegression(max_iter= 1000, random_state= 13)))\n",
    "])\n",
    "pipe4.fit(X_train, y_train)"
   ]
  },
  {
   "cell_type": "code",
   "execution_count": 37,
   "id": "68ad15f7-2514-4010-90dd-24c3483223e0",
   "metadata": {},
   "outputs": [
    {
     "data": {
      "text/plain": [
       "1.0"
      ]
     },
     "execution_count": 37,
     "metadata": {},
     "output_type": "execute_result"
    }
   ],
   "source": [
    "pipe4.score(X_train, y_train)"
   ]
  },
  {
   "cell_type": "code",
   "execution_count": 38,
   "id": "2d5173d4-e7ff-4117-bece-ed9ff3f32f0d",
   "metadata": {},
   "outputs": [
    {
     "data": {
      "text/plain": [
       "0.9823049001814882"
      ]
     },
     "execution_count": 38,
     "metadata": {},
     "output_type": "execute_result"
    }
   ],
   "source": [
    "pipe4.score(X_test, y_test)"
   ]
  },
  {
   "cell_type": "code",
   "execution_count": 39,
   "id": "3511d757-5be1-4332-b26d-208a9b0f622a",
   "metadata": {},
   "outputs": [],
   "source": [
    "stack_preds= pipe4.predict(X_test)"
   ]
  },
  {
   "cell_type": "code",
   "execution_count": 40,
   "id": "ddc045a3-0e07-4f94-ac41-6e78a5a1bce9",
   "metadata": {},
   "outputs": [
    {
     "data": {
      "text/plain": [
       "{'model': 'Stacked',\n",
       " 'accuracy': 0.9823049001814882,\n",
       " 'precision': 0.9824615739137817,\n",
       " 'recall': 0.9823049001814882,\n",
       " 'f1_score': 0.9823229228804702}"
      ]
     },
     "execution_count": 40,
     "metadata": {},
     "output_type": "execute_result"
    }
   ],
   "source": [
    "model_metrics(\"Stacked\", y_test, stack_preds)"
   ]
  },
  {
   "cell_type": "code",
   "execution_count": 41,
   "id": "41e459f7-9f1f-4e64-9314-c881fa395dfc",
   "metadata": {},
   "outputs": [],
   "source": [
    "model_metrics_list.append(model_metrics(\"Stacked\", y_test, stack_preds))"
   ]
  },
  {
   "cell_type": "code",
   "execution_count": 42,
   "id": "226dc252-be89-46c1-ab68-e9b3fa9a6516",
   "metadata": {},
   "outputs": [
    {
     "data": {
      "text/html": [
       "<div>\n",
       "<style scoped>\n",
       "    .dataframe tbody tr th:only-of-type {\n",
       "        vertical-align: middle;\n",
       "    }\n",
       "\n",
       "    .dataframe tbody tr th {\n",
       "        vertical-align: top;\n",
       "    }\n",
       "\n",
       "    .dataframe thead th {\n",
       "        text-align: right;\n",
       "    }\n",
       "</style>\n",
       "<table border=\"1\" class=\"dataframe\">\n",
       "  <thead>\n",
       "    <tr style=\"text-align: right;\">\n",
       "      <th></th>\n",
       "      <th>model</th>\n",
       "      <th>accuracy</th>\n",
       "      <th>precision</th>\n",
       "      <th>recall</th>\n",
       "      <th>f1_score</th>\n",
       "    </tr>\n",
       "  </thead>\n",
       "  <tbody>\n",
       "    <tr>\n",
       "      <th>3</th>\n",
       "      <td>Stacked</td>\n",
       "      <td>0.982305</td>\n",
       "      <td>0.982462</td>\n",
       "      <td>0.982305</td>\n",
       "      <td>0.982323</td>\n",
       "    </tr>\n",
       "    <tr>\n",
       "      <th>0</th>\n",
       "      <td>Logistic Regression</td>\n",
       "      <td>0.977314</td>\n",
       "      <td>0.977463</td>\n",
       "      <td>0.977314</td>\n",
       "      <td>0.977325</td>\n",
       "    </tr>\n",
       "    <tr>\n",
       "      <th>2</th>\n",
       "      <td>Gradient Boosting GS</td>\n",
       "      <td>0.962795</td>\n",
       "      <td>0.963101</td>\n",
       "      <td>0.962795</td>\n",
       "      <td>0.962837</td>\n",
       "    </tr>\n",
       "    <tr>\n",
       "      <th>1</th>\n",
       "      <td>Random Forest GS</td>\n",
       "      <td>0.955989</td>\n",
       "      <td>0.956329</td>\n",
       "      <td>0.955989</td>\n",
       "      <td>0.955945</td>\n",
       "    </tr>\n",
       "  </tbody>\n",
       "</table>\n",
       "</div>"
      ],
      "text/plain": [
       "                  model  accuracy  precision    recall  f1_score\n",
       "3               Stacked  0.982305   0.982462  0.982305  0.982323\n",
       "0   Logistic Regression  0.977314   0.977463  0.977314  0.977325\n",
       "2  Gradient Boosting GS  0.962795   0.963101  0.962795  0.962837\n",
       "1      Random Forest GS  0.955989   0.956329  0.955989  0.955945"
      ]
     },
     "execution_count": 42,
     "metadata": {},
     "output_type": "execute_result"
    }
   ],
   "source": [
    "# making dataframe for all the model metrics\n",
    "model_metrics_df= pd.DataFrame(columns= [\"model\", \"accuracy\", \"precision\", \"recall\", \"f1_score\"])\n",
    "\n",
    "for eval_dict in model_metrics_list:\n",
    "    model_df= pd.DataFrame(eval_dict, index=[0])\n",
    "    model_metrics_df = pd.concat([model_metrics_df, model_df], ignore_index= True)\n",
    "    \n",
    "model_metrics_df.sort_values(by= \"accuracy\", ascending= False)"
   ]
  },
  {
   "cell_type": "markdown",
   "id": "a84523dc-8577-42a8-9cb3-bc0e6df70d4f",
   "metadata": {},
   "source": [
    "By looking at all these evaluation metrics, we can see that our stacked model performs the best across all the metrics on our testing data set. I will move forward with this stacked model."
   ]
  },
  {
   "cell_type": "markdown",
   "id": "95972460-8544-467a-b73e-f6c6ae677786",
   "metadata": {},
   "source": [
    "We can take a closer look at the stacked model by calculating the confusion matrix."
   ]
  },
  {
   "cell_type": "code",
   "execution_count": 43,
   "id": "1eaa82c4-da69-4fe9-8699-204317a1029c",
   "metadata": {},
   "outputs": [
    {
     "data": {
      "image/png": "[encoded data removed]",
      "text/plain": [
       "<Figure size 640x480 with 2 Axes>"
      ]
     },
     "metadata": {},
     "output_type": "display_data"
    }
   ],
   "source": [
    "# making confusion matrix\n",
    "cm= confusion_matrix(y_test, stack_preds)\n",
    "sns.heatmap(cm, annot=True, fmt='d')\n",
    "\n",
    "plt.xlabel('Predicted Cluster')\n",
    "plt.ylabel('True Cluster')\n",
    "plt.show();"
   ]
  },
  {
   "cell_type": "markdown",
   "id": "43a0c6d1-9fbe-4e05-93cd-491e057c6c7c",
   "metadata": {},
   "source": [
    "It looks like when the model is mispredicting it is choosing to place the song in either cluster 0 or cluster 7, which makes sense because those clusters have the most songs in our data. The imbalance of classes for clusters is evident here."
   ]
  },
  {
   "cell_type": "markdown",
   "id": "f656b016-c227-45a0-ac14-e0e40a40b749",
   "metadata": {},
   "source": [
    "### Recommender Model"
   ]
  },
  {
   "cell_type": "markdown",
   "id": "acd0cd7c-3324-4e98-a3d5-0518b8c040e4",
   "metadata": {},
   "source": [
    "Now, I will make a recommender model that will calculate cosine similarties."
   ]
  },
  {
   "cell_type": "code",
   "execution_count": 44,
   "id": "2a687a8f-94e0-40d6-a07e-aa23128a099e",
   "metadata": {},
   "outputs": [
    {
     "data": {
      "text/plain": [
       "['danceability',\n",
       " 'energy',\n",
       " 'key',\n",
       " 'loudness',\n",
       " 'mode',\n",
       " 'speechiness',\n",
       " 'acousticness',\n",
       " 'instrumentalness',\n",
       " 'liveness',\n",
       " 'valence',\n",
       " 'tempo',\n",
       " 'time_signature',\n",
       " 'kmeans_cluster']"
      ]
     },
     "execution_count": 44,
     "metadata": {},
     "output_type": "execute_result"
    }
   ],
   "source": [
    "# choosing columns for similarity calculation\n",
    "recommender_features= songs.drop(columns=[\"song\", \"artist\", \"album\", \n",
    "                              \"release_date\", \"duration\", \"dbscan_cluster\"]).columns.to_list()\n",
    "recommender_features"
   ]
  },
  {
   "cell_type": "code",
   "execution_count": 45,
   "id": "bce7e871-0743-43fe-92d0-29f88314951e",
   "metadata": {},
   "outputs": [
    {
     "data": {
      "text/html": [
       "<div>\n",
       "<style scoped>\n",
       "    .dataframe tbody tr th:only-of-type {\n",
       "        vertical-align: middle;\n",
       "    }\n",
       "\n",
       "    .dataframe tbody tr th {\n",
       "        vertical-align: top;\n",
       "    }\n",
       "\n",
       "    .dataframe thead th {\n",
       "        text-align: right;\n",
       "    }\n",
       "</style>\n",
       "<table border=\"1\" class=\"dataframe\">\n",
       "  <thead>\n",
       "    <tr style=\"text-align: right;\">\n",
       "      <th></th>\n",
       "      <th>danceability</th>\n",
       "      <th>energy</th>\n",
       "      <th>key</th>\n",
       "      <th>loudness</th>\n",
       "      <th>mode</th>\n",
       "      <th>speechiness</th>\n",
       "      <th>acousticness</th>\n",
       "      <th>instrumentalness</th>\n",
       "      <th>liveness</th>\n",
       "      <th>valence</th>\n",
       "      <th>tempo</th>\n",
       "      <th>time_signature</th>\n",
       "      <th>kmeans_cluster</th>\n",
       "    </tr>\n",
       "  </thead>\n",
       "  <tbody>\n",
       "    <tr>\n",
       "      <th>0</th>\n",
       "      <td>0.615</td>\n",
       "      <td>0.779</td>\n",
       "      <td>2</td>\n",
       "      <td>-6.454</td>\n",
       "      <td>1</td>\n",
       "      <td>0.1350</td>\n",
       "      <td>0.0665</td>\n",
       "      <td>0.000000</td>\n",
       "      <td>0.1550</td>\n",
       "      <td>0.453</td>\n",
       "      <td>160.000</td>\n",
       "      <td>4</td>\n",
       "      <td>7</td>\n",
       "    </tr>\n",
       "    <tr>\n",
       "      <th>1</th>\n",
       "      <td>0.687</td>\n",
       "      <td>0.845</td>\n",
       "      <td>7</td>\n",
       "      <td>-4.370</td>\n",
       "      <td>1</td>\n",
       "      <td>0.0576</td>\n",
       "      <td>0.1000</td>\n",
       "      <td>0.000000</td>\n",
       "      <td>0.0452</td>\n",
       "      <td>0.809</td>\n",
       "      <td>87.972</td>\n",
       "      <td>4</td>\n",
       "      <td>0</td>\n",
       "    </tr>\n",
       "    <tr>\n",
       "      <th>2</th>\n",
       "      <td>0.818</td>\n",
       "      <td>0.803</td>\n",
       "      <td>1</td>\n",
       "      <td>-4.282</td>\n",
       "      <td>1</td>\n",
       "      <td>0.0797</td>\n",
       "      <td>0.0340</td>\n",
       "      <td>0.000000</td>\n",
       "      <td>0.1530</td>\n",
       "      <td>0.632</td>\n",
       "      <td>106.970</td>\n",
       "      <td>4</td>\n",
       "      <td>0</td>\n",
       "    </tr>\n",
       "    <tr>\n",
       "      <th>3</th>\n",
       "      <td>0.624</td>\n",
       "      <td>0.876</td>\n",
       "      <td>9</td>\n",
       "      <td>-3.374</td>\n",
       "      <td>1</td>\n",
       "      <td>0.1000</td>\n",
       "      <td>0.0735</td>\n",
       "      <td>0.000000</td>\n",
       "      <td>0.3270</td>\n",
       "      <td>0.781</td>\n",
       "      <td>99.943</td>\n",
       "      <td>4</td>\n",
       "      <td>2</td>\n",
       "    </tr>\n",
       "    <tr>\n",
       "      <th>4</th>\n",
       "      <td>0.614</td>\n",
       "      <td>0.379</td>\n",
       "      <td>4</td>\n",
       "      <td>-10.480</td>\n",
       "      <td>1</td>\n",
       "      <td>0.0476</td>\n",
       "      <td>0.6070</td>\n",
       "      <td>0.000464</td>\n",
       "      <td>0.0986</td>\n",
       "      <td>0.201</td>\n",
       "      <td>107.989</td>\n",
       "      <td>4</td>\n",
       "      <td>3</td>\n",
       "    </tr>\n",
       "  </tbody>\n",
       "</table>\n",
       "</div>"
      ],
      "text/plain": [
       "   danceability  energy  key  loudness  mode  speechiness  acousticness  \\\n",
       "0         0.615   0.779    2    -6.454     1       0.1350        0.0665   \n",
       "1         0.687   0.845    7    -4.370     1       0.0576        0.1000   \n",
       "2         0.818   0.803    1    -4.282     1       0.0797        0.0340   \n",
       "3         0.624   0.876    9    -3.374     1       0.1000        0.0735   \n",
       "4         0.614   0.379    4   -10.480     1       0.0476        0.6070   \n",
       "\n",
       "   instrumentalness  liveness  valence    tempo  time_signature  \\\n",
       "0          0.000000    0.1550    0.453  160.000               4   \n",
       "1          0.000000    0.0452    0.809   87.972               4   \n",
       "2          0.000000    0.1530    0.632  106.970               4   \n",
       "3          0.000000    0.3270    0.781   99.943               4   \n",
       "4          0.000464    0.0986    0.201  107.989               4   \n",
       "\n",
       "   kmeans_cluster  \n",
       "0               7  \n",
       "1               0  \n",
       "2               0  \n",
       "3               2  \n",
       "4               3  "
      ]
     },
     "execution_count": 45,
     "metadata": {},
     "output_type": "execute_result"
    }
   ],
   "source": [
    "recommender_df= songs[recommender_features]\n",
    "recommender_df.head()"
   ]
  },
  {
   "cell_type": "code",
   "execution_count": 46,
   "id": "0c3163dd-da9c-49dc-8499-7ac5f8943acb",
   "metadata": {},
   "outputs": [],
   "source": [
    "sc= StandardScaler()\n",
    "recommender_df_sc= sc.fit_transform(recommender_df)"
   ]
  },
  {
   "cell_type": "code",
   "execution_count": 47,
   "id": "23dbee35-0227-4730-82bf-d7a7fe601e42",
   "metadata": {},
   "outputs": [],
   "source": [
    "# create similarity matrix\n",
    "similarity_matrix = cosine_similarity(recommender_df_sc)"
   ]
  },
  {
   "cell_type": "code",
   "execution_count": 48,
   "id": "cec3e89a-4421-489e-a3ce-77d4f0c74c13",
   "metadata": {},
   "outputs": [
    {
     "data": {
      "text/html": [
       "<div>\n",
       "<style scoped>\n",
       "    .dataframe tbody tr th:only-of-type {\n",
       "        vertical-align: middle;\n",
       "    }\n",
       "\n",
       "    .dataframe tbody tr th {\n",
       "        vertical-align: top;\n",
       "    }\n",
       "\n",
       "    .dataframe thead th {\n",
       "        text-align: right;\n",
       "    }\n",
       "</style>\n",
       "<table border=\"1\" class=\"dataframe\">\n",
       "  <thead>\n",
       "    <tr style=\"text-align: right;\">\n",
       "      <th>song</th>\n",
       "      <th>...Ready For It?</th>\n",
       "      <th>Life Changes</th>\n",
       "      <th>24K Magic</th>\n",
       "      <th>Galway Girl</th>\n",
       "      <th>Photograph</th>\n",
       "      <th>Havana (feat. Young Thug)</th>\n",
       "      <th>When I Was Your Man</th>\n",
       "      <th>Gonna Fly Now</th>\n",
       "      <th>Don't Wanna Know (feat. Kendrick Lamar)</th>\n",
       "      <th>Thinking out Loud</th>\n",
       "      <th>...</th>\n",
       "      <th>??? (Bonus Track)</th>\n",
       "      <th>Sacrificed Sons</th>\n",
       "      <th>Saddle Tramp</th>\n",
       "      <th>Remember the Future, Pt. 2</th>\n",
       "      <th>Alice's Restaurant Massacree</th>\n",
       "      <th>Remember the Future, Pt. 1</th>\n",
       "      <th>Funeral For A Friend / Love Lies Bleeding</th>\n",
       "      <th>Fool's Overture</th>\n",
       "      <th>Heart of the Sunrise - 2003 Remaster</th>\n",
       "      <th>Venus And Mars / Rock Show / Jet - Live / Remastered</th>\n",
       "    </tr>\n",
       "    <tr>\n",
       "      <th>song</th>\n",
       "      <th></th>\n",
       "      <th></th>\n",
       "      <th></th>\n",
       "      <th></th>\n",
       "      <th></th>\n",
       "      <th></th>\n",
       "      <th></th>\n",
       "      <th></th>\n",
       "      <th></th>\n",
       "      <th></th>\n",
       "      <th></th>\n",
       "      <th></th>\n",
       "      <th></th>\n",
       "      <th></th>\n",
       "      <th></th>\n",
       "      <th></th>\n",
       "      <th></th>\n",
       "      <th></th>\n",
       "      <th></th>\n",
       "      <th></th>\n",
       "      <th></th>\n",
       "    </tr>\n",
       "  </thead>\n",
       "  <tbody>\n",
       "    <tr>\n",
       "      <th>...Ready For It?</th>\n",
       "      <td>1.000000</td>\n",
       "      <td>-0.223978</td>\n",
       "      <td>0.159074</td>\n",
       "      <td>-0.074019</td>\n",
       "      <td>-0.214015</td>\n",
       "      <td>-0.062589</td>\n",
       "      <td>-0.301808</td>\n",
       "      <td>-0.561810</td>\n",
       "      <td>0.186539</td>\n",
       "      <td>-0.241776</td>\n",
       "      <td>...</td>\n",
       "      <td>-0.277532</td>\n",
       "      <td>0.322713</td>\n",
       "      <td>-0.321155</td>\n",
       "      <td>-0.468991</td>\n",
       "      <td>-0.224822</td>\n",
       "      <td>-0.365288</td>\n",
       "      <td>0.094903</td>\n",
       "      <td>0.031403</td>\n",
       "      <td>0.304360</td>\n",
       "      <td>-0.023317</td>\n",
       "    </tr>\n",
       "    <tr>\n",
       "      <th>Life Changes</th>\n",
       "      <td>-0.223978</td>\n",
       "      <td>1.000000</td>\n",
       "      <td>0.702614</td>\n",
       "      <td>0.704423</td>\n",
       "      <td>-0.201899</td>\n",
       "      <td>-0.020149</td>\n",
       "      <td>-0.010263</td>\n",
       "      <td>-0.202358</td>\n",
       "      <td>0.215694</td>\n",
       "      <td>0.376685</td>\n",
       "      <td>...</td>\n",
       "      <td>-0.465632</td>\n",
       "      <td>-0.548901</td>\n",
       "      <td>-0.319620</td>\n",
       "      <td>-0.397770</td>\n",
       "      <td>-0.123575</td>\n",
       "      <td>-0.151712</td>\n",
       "      <td>-0.540901</td>\n",
       "      <td>-0.465071</td>\n",
       "      <td>-0.402840</td>\n",
       "      <td>-0.277547</td>\n",
       "    </tr>\n",
       "    <tr>\n",
       "      <th>24K Magic</th>\n",
       "      <td>0.159074</td>\n",
       "      <td>0.702614</td>\n",
       "      <td>1.000000</td>\n",
       "      <td>0.448286</td>\n",
       "      <td>-0.103815</td>\n",
       "      <td>-0.078258</td>\n",
       "      <td>0.079545</td>\n",
       "      <td>-0.551772</td>\n",
       "      <td>0.121497</td>\n",
       "      <td>0.514727</td>\n",
       "      <td>...</td>\n",
       "      <td>-0.645977</td>\n",
       "      <td>-0.441713</td>\n",
       "      <td>-0.314590</td>\n",
       "      <td>-0.485104</td>\n",
       "      <td>-0.113701</td>\n",
       "      <td>-0.549842</td>\n",
       "      <td>-0.675472</td>\n",
       "      <td>-0.310496</td>\n",
       "      <td>-0.274072</td>\n",
       "      <td>-0.011716</td>\n",
       "    </tr>\n",
       "    <tr>\n",
       "      <th>Galway Girl</th>\n",
       "      <td>-0.074019</td>\n",
       "      <td>0.704423</td>\n",
       "      <td>0.448286</td>\n",
       "      <td>1.000000</td>\n",
       "      <td>-0.523862</td>\n",
       "      <td>-0.110006</td>\n",
       "      <td>-0.347194</td>\n",
       "      <td>-0.343161</td>\n",
       "      <td>0.129713</td>\n",
       "      <td>0.105421</td>\n",
       "      <td>...</td>\n",
       "      <td>-0.539503</td>\n",
       "      <td>-0.250535</td>\n",
       "      <td>-0.252012</td>\n",
       "      <td>-0.670342</td>\n",
       "      <td>0.308882</td>\n",
       "      <td>-0.278315</td>\n",
       "      <td>-0.215496</td>\n",
       "      <td>-0.703819</td>\n",
       "      <td>-0.447748</td>\n",
       "      <td>0.262313</td>\n",
       "    </tr>\n",
       "    <tr>\n",
       "      <th>Photograph</th>\n",
       "      <td>-0.214015</td>\n",
       "      <td>-0.201899</td>\n",
       "      <td>-0.103815</td>\n",
       "      <td>-0.523862</td>\n",
       "      <td>1.000000</td>\n",
       "      <td>0.012919</td>\n",
       "      <td>0.837641</td>\n",
       "      <td>0.028698</td>\n",
       "      <td>0.340856</td>\n",
       "      <td>0.532042</td>\n",
       "      <td>...</td>\n",
       "      <td>0.530526</td>\n",
       "      <td>-0.392953</td>\n",
       "      <td>-0.300090</td>\n",
       "      <td>0.358790</td>\n",
       "      <td>0.132885</td>\n",
       "      <td>0.333671</td>\n",
       "      <td>-0.346019</td>\n",
       "      <td>0.732573</td>\n",
       "      <td>-0.002267</td>\n",
       "      <td>-0.192612</td>\n",
       "    </tr>\n",
       "  </tbody>\n",
       "</table>\n",
       "<p>5 rows × 8816 columns</p>\n",
       "</div>"
      ],
      "text/plain": [
       "song              ...Ready For It?  Life Changes  24K Magic  Galway Girl  \\\n",
       "song                                                                       \n",
       "...Ready For It?          1.000000     -0.223978   0.159074    -0.074019   \n",
       "Life Changes             -0.223978      1.000000   0.702614     0.704423   \n",
       "24K Magic                 0.159074      0.702614   1.000000     0.448286   \n",
       "Galway Girl              -0.074019      0.704423   0.448286     1.000000   \n",
       "Photograph               -0.214015     -0.201899  -0.103815    -0.523862   \n",
       "\n",
       "song              Photograph  Havana (feat. Young Thug)  When I Was Your Man  \\\n",
       "song                                                                           \n",
       "...Ready For It?   -0.214015                  -0.062589            -0.301808   \n",
       "Life Changes       -0.201899                  -0.020149            -0.010263   \n",
       "24K Magic          -0.103815                  -0.078258             0.079545   \n",
       "Galway Girl        -0.523862                  -0.110006            -0.347194   \n",
       "Photograph          1.000000                   0.012919             0.837641   \n",
       "\n",
       "song              Gonna Fly Now  Don't Wanna Know (feat. Kendrick Lamar)  \\\n",
       "song                                                                       \n",
       "...Ready For It?      -0.561810                                 0.186539   \n",
       "Life Changes          -0.202358                                 0.215694   \n",
       "24K Magic             -0.551772                                 0.121497   \n",
       "Galway Girl           -0.343161                                 0.129713   \n",
       "Photograph             0.028698                                 0.340856   \n",
       "\n",
       "song              Thinking out Loud  ...  ??? (Bonus Track)  Sacrificed Sons  \\\n",
       "song                                 ...                                       \n",
       "...Ready For It?          -0.241776  ...          -0.277532         0.322713   \n",
       "Life Changes               0.376685  ...          -0.465632        -0.548901   \n",
       "24K Magic                  0.514727  ...          -0.645977        -0.441713   \n",
       "Galway Girl                0.105421  ...          -0.539503        -0.250535   \n",
       "Photograph                 0.532042  ...           0.530526        -0.392953   \n",
       "\n",
       "song              Saddle Tramp  Remember the Future, Pt. 2  \\\n",
       "song                                                         \n",
       "...Ready For It?     -0.321155                   -0.468991   \n",
       "Life Changes         -0.319620                   -0.397770   \n",
       "24K Magic            -0.314590                   -0.485104   \n",
       "Galway Girl          -0.252012                   -0.670342   \n",
       "Photograph           -0.300090                    0.358790   \n",
       "\n",
       "song              Alice's Restaurant Massacree  Remember the Future, Pt. 1  \\\n",
       "song                                                                         \n",
       "...Ready For It?                     -0.224822                   -0.365288   \n",
       "Life Changes                         -0.123575                   -0.151712   \n",
       "24K Magic                            -0.113701                   -0.549842   \n",
       "Galway Girl                           0.308882                   -0.278315   \n",
       "Photograph                            0.132885                    0.333671   \n",
       "\n",
       "song              Funeral For A Friend / Love Lies Bleeding  Fool's Overture  \\\n",
       "song                                                                           \n",
       "...Ready For It?                                   0.094903         0.031403   \n",
       "Life Changes                                      -0.540901        -0.465071   \n",
       "24K Magic                                         -0.675472        -0.310496   \n",
       "Galway Girl                                       -0.215496        -0.703819   \n",
       "Photograph                                        -0.346019         0.732573   \n",
       "\n",
       "song              Heart of the Sunrise - 2003 Remaster  \\\n",
       "song                                                     \n",
       "...Ready For It?                              0.304360   \n",
       "Life Changes                                 -0.402840   \n",
       "24K Magic                                    -0.274072   \n",
       "Galway Girl                                  -0.447748   \n",
       "Photograph                                   -0.002267   \n",
       "\n",
       "song              Venus And Mars / Rock Show / Jet - Live / Remastered  \n",
       "song                                                                    \n",
       "...Ready For It?                                          -0.023317     \n",
       "Life Changes                                              -0.277547     \n",
       "24K Magic                                                 -0.011716     \n",
       "Galway Girl                                                0.262313     \n",
       "Photograph                                                -0.192612     \n",
       "\n",
       "[5 rows x 8816 columns]"
      ]
     },
     "execution_count": 48,
     "metadata": {},
     "output_type": "execute_result"
    }
   ],
   "source": [
    "recommender = pd.DataFrame(similarity_matrix, index=songs[\"song\"], columns=songs[\"song\"])\n",
    "recommender.head()"
   ]
  },
  {
   "cell_type": "markdown",
   "id": "ff29c7bb-0b59-4b0b-9eb0-6fb31a2578c8",
   "metadata": {},
   "source": [
    "#### Constructing the model into a function"
   ]
  },
  {
   "cell_type": "code",
   "execution_count": 60,
   "id": "458f82d6-80bc-4479-90f9-458b05faebca",
   "metadata": {},
   "outputs": [],
   "source": [
    "def get_recommendations(your_song, num_recommendations):\n",
    "    \n",
    "    \n",
    "    '''\n",
    "    This function gets song recommendations based on a given song and the desired number of recommendations.\n",
    "    It takes in a song name (your_song) and the number of songs you want recommended (num_recommendations).\n",
    "    It returns a dataframe with the recommended song names, respective artists, and similarity scores (in order by similarity score descending)\n",
    "    '''\n",
    "    # find all songs that contain the song input\n",
    "    matching_songs = songs.loc[songs[\"song\"].str.contains(your_song, case=False), \"song\"]\n",
    "    \n",
    "    if matching_songs.empty:\n",
    "            print(f\"It appears that we do not have any matching songs in our dataframe for: {your_song}.\\nPlease try another song!\")\n",
    "            print()\n",
    "    else:      \n",
    "        for song in matching_songs:\n",
    "            print(f\"Recommendations for {song}\")\n",
    "\n",
    "            try:\n",
    "                # get song's similarity scores from the recommender and sort descending\n",
    "                sorted_similarity_scores = recommender.loc[song].sort_values(ascending=False)\n",
    "\n",
    "                # get the top n songs from the sorted scores\n",
    "                top_recommendations = sorted_similarity_scores[1:num_recommendations + 1].reset_index()\n",
    "                top_recommendations.columns = [\"recommended song\", \"similarity score\"]\n",
    "\n",
    "                recommendations = pd.merge(top_recommendations, songs, left_on=\"recommended song\", right_on=\"song\")\n",
    "                recommendations = recommendations[[\"recommended song\", \"artist\", \"similarity score\"]]\n",
    "\n",
    "                print(recommendations)\n",
    "                print(\"\")\n",
    "\n",
    "            # in case no songs found containing the song input\n",
    "            except KeyError:\n",
    "                print(\"No recommendations found for\", song)\n",
    "                print()"
   ]
  },
  {
   "cell_type": "markdown",
   "id": "28c39209-47bf-4a65-9238-dcd590fea7f8",
   "metadata": {},
   "source": [
    "#### Examples of the recommender function in action!"
   ]
  },
  {
   "cell_type": "code",
   "execution_count": 61,
   "id": "64d13873-76dc-4293-908e-6998cddb1af9",
   "metadata": {},
   "outputs": [
    {
     "name": "stdout",
     "output_type": "stream",
     "text": [
      "Recommendations for When I Was Your Man\n",
      "      recommended song           artist  similarity score\n",
      "0        Sing Together            Train          0.979379\n",
      "1           Dirty Work       Steely Dan          0.971719\n",
      "2  Bloom - Bonus Track  The Paper Kites          0.967229\n",
      "3              Perfekt           Bendik          0.966851\n",
      "4    What Am I To You?      Norah Jones          0.966176\n",
      "5               Ho Hey    The Lumineers          0.965025\n",
      "6              One Day       Tate McRae          0.964515\n",
      "7          Count on Me       Bruno Mars          0.962009\n",
      "8       I Hung My Head      Johnny Cash          0.955586\n",
      "9         Sweet Louise        Passenger          0.955227\n",
      "\n"
     ]
    }
   ],
   "source": [
    "get_recommendations(\"when i was your man\", 10)"
   ]
  },
  {
   "cell_type": "code",
   "execution_count": 62,
   "id": "82c244d6-02fc-4924-a3ad-343d2db9d53f",
   "metadata": {},
   "outputs": [
    {
     "name": "stdout",
     "output_type": "stream",
     "text": [
      "Recommendations for Stay With Me\n",
      "                 recommended song                artist  similarity score\n",
      "0                   Blood Stutter        Handsome Ghost          0.967303\n",
      "1                  Oh Ms Believer     Twenty One Pilots          0.966553\n",
      "2             I Won't Tell a Soul          Charlie Puth          0.962002\n",
      "3                        Homesick  Kings of Convenience          0.955392\n",
      "4                            Lost             Liza Anne          0.953457\n",
      "5                         Perfekt                Bendik          0.947825\n",
      "6  It's All Coming Back to Me Now           Céline Dion          0.939375\n",
      "7                   Jar of Hearts       Christina Perri          0.924217\n",
      "8          Merry Little Christmas          Why Don't We          0.922970\n",
      "9                        Marianna   Ingrid Helene Håvik          0.922125\n",
      "\n"
     ]
    }
   ],
   "source": [
    "get_recommendations(\"stay with me\", 10)"
   ]
  },
  {
   "cell_type": "code",
   "execution_count": 66,
   "id": "ea812099-27c3-455a-9056-e7087338acee",
   "metadata": {},
   "outputs": [
    {
     "name": "stdout",
     "output_type": "stream",
     "text": [
      "Recommendations for One Dance\n",
      "                  recommended song         artist  similarity score\n",
      "0            I Don't Fuck With You       Big Sean          0.976151\n",
      "1                   In My Feelings          Drake          0.926173\n",
      "2                    Dj Turn It Up  Heretic Klick          0.925024\n",
      "3  Outta My Head (with John Mayer)         Khalid          0.921419\n",
      "4                Ready To Love You      HEDEGAARD          0.906303\n",
      "5                     It Wasn't Me         Shaggy          0.898671\n",
      "6    Decisions (feat. Maia Wright)          KREAM          0.897975\n",
      "7                     It's Alright   Matt and Kim          0.886191\n",
      "8               I'd Be Jealous Too   Dustin Lynch          0.883109\n",
      "9                     By The River      Klingande          0.882705\n",
      "\n",
      "Recommendations for Just One Dance\n",
      "                             recommended song                  artist  \\\n",
      "0                             Revolving Doors                Gorillaz   \n",
      "1                        Loca (feat. El Cata)                 Shakira   \n",
      "2                                        Sing              Ed Sheeran   \n",
      "3                                  Tangled Up            Caro Emerald   \n",
      "4                               Con Mi Sombra              S-Tone Inc   \n",
      "5                                Grizzly Bear     Angus & Julia Stone   \n",
      "6      Strange Transmissions - Chillout Remix  The Peter Malick Group   \n",
      "7                             I Need A Dollar              Aloe Blacc   \n",
      "8  There's Nothing Holdin' Me Back - Acoustic            Shawn Mendes   \n",
      "9           The World's Greatest - Radio Edit                R. Kelly   \n",
      "\n",
      "   similarity score  \n",
      "0          0.953569  \n",
      "1          0.949192  \n",
      "2          0.940375  \n",
      "3          0.934063  \n",
      "4          0.931421  \n",
      "5          0.924264  \n",
      "6          0.923988  \n",
      "7          0.921834  \n",
      "8          0.918863  \n",
      "9          0.917023  \n",
      "\n"
     ]
    }
   ],
   "source": [
    "# example with multiple matching songs\n",
    "get_recommendations(\"one dance\", 10)"
   ]
  },
  {
   "cell_type": "code",
   "execution_count": 67,
   "id": "4d99f2f2-1ced-49d8-927a-cbb6db07f41e",
   "metadata": {},
   "outputs": [
    {
     "name": "stdout",
     "output_type": "stream",
     "text": [
      "It appears that we do not have any matching songs in our dataframe for: we the people.\n",
      "Please try another song!\n",
      "\n"
     ]
    }
   ],
   "source": [
    "get_recommendations(\"we the people\", 10)"
   ]
  },
  {
   "cell_type": "markdown",
   "id": "66395411-ed44-44b9-9a78-a43ab5fb7f19",
   "metadata": {},
   "source": [
    "From these examples, it looks like the recommender does good, but could definitely be better. "
   ]
  }
 ],
 "metadata": {
  "kernelspec": {
   "display_name": "Python 3 (ipykernel)",
   "language": "python",
   "name": "python3"
  },
  "language_info": {
   "codemirror_mode": {
    "name": "ipython",
    "version": 3
   },
   "file_extension": ".py",
   "mimetype": "text/x-python",
   "name": "python",
   "nbconvert_exporter": "python",
   "pygments_lexer": "ipython3",
   "version": "3.8.3"
  }
 },
 "nbformat": 4,
 "nbformat_minor": 5
}
